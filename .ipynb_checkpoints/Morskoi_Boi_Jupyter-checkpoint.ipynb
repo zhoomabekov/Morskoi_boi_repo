{
 "cells": [
  {
   "cell_type": "markdown",
   "id": "95155a30",
   "metadata": {
    "tags": []
   },
   "source": [
    "## Логика игры\n",
    "\n",
    "Приветствие и правила игры\n",
    "\n",
    "Показ игровой доски ИИ (все в нулях)\n",
    "\n",
    "Создание рандомных кораблей на доске ИИ\n",
    "\n",
    "Запрос создания кораблей Игрока (показ при каждом размещении кораблей)\n",
    "\n",
    "### Loop:\n",
    "Ход игрока\n",
    "\n",
    "Проверка правильности хода\n",
    "\n",
    "Размещение на доске ИИ и отображение его доски\n",
    "\n",
    "Проверка на ПОБЕДУ\n",
    "\n",
    "Ход ИИ и отображение доски Игрока\n",
    "\n",
    "Проверка на ПОБЕДУ\n"
   ]
  },
  {
   "cell_type": "markdown",
   "id": "0fc48a86",
   "metadata": {},
   "source": [
    "# ...Error Classes"
   ]
  },
  {
   "cell_type": "code",
   "execution_count": 704,
   "id": "25c90594",
   "metadata": {},
   "outputs": [],
   "source": [
    "class BoardOutError(Exception):\n",
    "    def __init__(self,value):\n",
    "        self.value = value\n",
    "    \n",
    "    def __str__(self):\n",
    "        return f\"{self.value} лежит за пределами игрового поля. Введите двузначное число, каждая цифра которого от 1 до 6, включительно.\"\n",
    "\n",
    "class NonEmptyError(Exception):\n",
    "    def __init__(self,value):\n",
    "        self.value = value\n",
    "    \n",
    "    def __str__(self):\n",
    "        return f\"Выбраная ячейка - {self.value} - непустая. Стрелять можно только в пустые ячейки.\"\n",
    "\n",
    "class ShipLocationError(Exception):\n",
    "    def __init__(self,length, front, direction):\n",
    "        self.length = length\n",
    "        self.front = front\n",
    "        self.direction = direction\n",
    "    \n",
    "    def __str__(self):\n",
    "        self.front = (self.front[0] + 1, self.front[1] + 1)\n",
    "        direction_word = {\n",
    "            1: 'Вправо',\n",
    "            2: 'Вниз'\n",
    "        }\n",
    "        return f\"Указанные параметры - длина ({self.length}), положение носа корабля {self.front} и направление ({direction_word[self.direction]}) не позволяют корректно разместить корабль на игровом поле.\"\n",
    "    "
   ]
  },
  {
   "cell_type": "markdown",
   "id": "bb9b629e",
   "metadata": {},
   "source": [
    "# ...Board, Ship, Dot Classes"
   ]
  },
  {
   "cell_type": "code",
   "execution_count": 705,
   "id": "91bf5428-f365-444e-af22-c4eec68d2ec6",
   "metadata": {},
   "outputs": [],
   "source": [
    "class Dot:\n",
    "    def __init__(self, row, col):\n",
    "        self.row = row\n",
    "        self.col = col\n",
    "        \n",
    "    def __eq__(self, other):\n",
    "        return self.row == other.row and self.col == other.col\n",
    "    \n",
    "    @property\n",
    "    def show(self):\n",
    "        return(self.row, self.col)"
   ]
  },
  {
   "cell_type": "code",
   "execution_count": 706,
   "id": "a7423039",
   "metadata": {},
   "outputs": [],
   "source": [
    "grid = [['o' for i in range(6)] for i in range(6)]\n",
    "\n",
    "def print_grid(L):\n",
    "    print(*[\" \", *[i for i in range(1,7)]], sep=' | ')\n",
    "    for i in range(6):\n",
    "        print(i+1, *L[i], sep=' | ')\n",
    "    return"
   ]
  },
  {
   "cell_type": "code",
   "execution_count": 707,
   "id": "b4f77499-680a-49e9-83d2-f32843ebfbcb",
   "metadata": {},
   "outputs": [],
   "source": [
    "class Ship:\n",
    "    def __init__(self, length, front, direction, life):\n",
    "        self.length = length\n",
    "        self.front = front\n",
    "        self.direction = direction\n",
    "        self.life = life\n",
    "    \n",
    "    def dots(self):\n",
    "        ship_cells = []\n",
    "        direction_vector = {\n",
    "            1:  (0, 1),\n",
    "            2:  (1, 0)\n",
    "        }\n",
    "                \n",
    "        for i in range(self.length):\n",
    "            cell = (self.front[0] + direction_vector[self.direction][0]*(i), \\\n",
    "                    self.front[1] + direction_vector[self.direction][1]*(i))\n",
    "            ship_cells.append(cell)\n",
    "        return ship_cells\n"
   ]
  },
  {
   "cell_type": "code",
   "execution_count": 220,
   "id": "573ff351",
   "metadata": {
    "scrolled": true
   },
   "outputs": [
    {
     "data": {
      "text/plain": [
       "[(3, 5), (4, 5)]"
      ]
     },
     "execution_count": 220,
     "metadata": {},
     "output_type": "execute_result"
    }
   ],
   "source": [
    "ship_1 = Ship(3,(0,2),1,3)\n",
    "ship_1.dots()\n",
    "\n",
    "ship_2 = Ship(2,(3,5),2,2)\n",
    "ship_2.dots()\n"
   ]
  },
  {
   "cell_type": "code",
   "execution_count": null,
   "id": "c3065f13",
   "metadata": {},
   "outputs": [],
   "source": []
  },
  {
   "cell_type": "code",
   "execution_count": 708,
   "id": "e4031011",
   "metadata": {
    "scrolled": false
   },
   "outputs": [],
   "source": [
    "class Board:\n",
    "    POSSIBLE_CELLS = []\n",
    "    for i in range(6):\n",
    "        for j in range(6):\n",
    "            POSSIBLE_CELLS.append((i,j))\n",
    "#     print(POSSIBLE_CELLS)\n",
    "    \n",
    "    player_shots_left = []\n",
    "    for i in POSSIBLE_CELLS:\n",
    "        player_shots_left.append(Dot(*i))\n",
    "#     print(len(player_shots_left))\n",
    "    \n",
    "    \n",
    "    start_cells_conditions = [['o' for i in range(6)] for i in range(6)]\n",
    "       \n",
    "    __s = u'\\u220E'     #код квадрата в системе unicode \n",
    "    \n",
    "    def __init__(self, hid, cells_conditions = start_cells_conditions, ships = [], alive_ships = 7):\n",
    "        self.cells_conditions = cells_conditions    # list\n",
    "        self.ships = ships                          # list with all ships\n",
    "        self.hid = hid                              # bool\n",
    "        self.alive_ships = alive_ships              # int\n",
    "\n",
    "        \n",
    "    def add_ship(self, ship):      #ставит корабль на доску (если ставить не получается, выбрасываем исключения)       \n",
    "        for i in range(len(ship.dots())):\n",
    "            if ship.dots()[i] in self.contoured_ships():\n",
    "                raise ShipLocationError(ship.length, ship.front, ship.direction)\n",
    "        self.ships.append(ship.dots())\n",
    "        print(f'ships = {self.ships}')\n",
    "        \n",
    "        for i in ship.dots():\n",
    "            player_shots_left.remove(i)\n",
    "            \n",
    "            \n",
    "    \n",
    "    def contoured_ships(self):      # точки всех кораблей + их контуров\n",
    "        \n",
    "        existing_ships_dots = []\n",
    "        for i in range(len(self.ships)):\n",
    "            existing_ships_dots += self.ships[i]\n",
    "        \n",
    "        contoured_ships_dots = []\n",
    "        for dot in range(len(existing_ships_dots)):\n",
    "            for i in [-1, 0, 1]:\n",
    "                for j in [-1, 0, 1]:\n",
    "                    tested_dot = (existing_ships_dots[dot][0] + i, existing_ships_dots[dot][1] + j)\n",
    "                    if tested_dot in self.POSSIBLE_CELLS:\n",
    "                        contoured_ships_dots.append(tested_dot)\n",
    "        return list(set(contoured_ships_dots))\n",
    "                \n",
    "        \n",
    "    def show_board(self):      #выводит доску в консоль в зависимости от параметра hid.\n",
    "        ships_gui = self.start_cells_conditions.copy()\n",
    "        \n",
    "        existing_ships_dots = []\n",
    "        for i in range(len(self.ships)):\n",
    "            existing_ships_dots += self.ships[i]\n",
    "        \n",
    "        for i in existing_ships_dots:\n",
    "            ships_gui[i[0]][i[1]] = self.__s\n",
    "        \n",
    "        if not hid:\n",
    "            return self.gui_print(ships_gui)\n",
    "    \n",
    "    def out(self, dot):      #для точки (объекта класса Dot) возвращает True, если точка выходит за пределы поля\n",
    "        print(111)\n",
    "        if dot in self.POSSIBLE_CELLS:\n",
    "            return False\n",
    "        else:\n",
    "            return True\n",
    "    \n",
    "    def shot(self, row, col):            #делает выстрел по доске (если есть попытка выстрелить за \\\n",
    "                                         #пределы и в использованную точку, нужно выбрасывать исключения\n",
    "        while True:                      #Loop для получения правильного ввода от Игрока\n",
    "\n",
    "#             try:\n",
    "#                 player_shot = int(input(\"В какую ячейку будем стрелять?\"))\n",
    "#                 row = player_shot // 10 - 1\n",
    "#                 col = player_shot % 10 - 1\n",
    "#             except Exception:\n",
    "#                 print('Необходимо ввести двузначное число!')\n",
    "#                 break\n",
    "            \n",
    "            if self.out((row, col)):\n",
    "                raise BoardOutError(player_shot)\n",
    "            else:\n",
    "                shot = Dot(row, col)\n",
    "\n",
    "                if shot not in self.player_shots_left:\n",
    "                    err = NonEmptyError(player_shot)\n",
    "                    print(err)\n",
    "                else:\n",
    "                    existing_ships_dots = []\n",
    "                    for i in range(len(self.ships)):\n",
    "                        existing_ships_dots += self.ships[i]\n",
    "                    if (row, col) in existing_ships_dots:\n",
    "                        self.cells_conditions[row][col] = 'X'\n",
    "                        self.player_shots_left.remove(Dot(row,col))\n",
    "                        print(self.cells_conditions)    \n",
    "                    else:\n",
    "                        self.cells_conditions[row][col] = 'T'\n",
    "                        self.player_shots_left.remove(Dot(row,col))\n",
    "                        print(self.cells_conditions)\n",
    "                    print('Ход компьютера:')\n",
    "                    break\n",
    "\n",
    "            \n",
    "    def gui_print(self, L):\n",
    "        print(*[\" \", *[i for i in range(1,7)]], sep=' | ')\n",
    "        for i in range(6):\n",
    "            print(i+1, *L[i], sep=' | ')\n",
    "        return"
   ]
  },
  {
   "cell_type": "code",
   "execution_count": null,
   "id": "24eddc9a",
   "metadata": {},
   "outputs": [],
   "source": []
  },
  {
   "cell_type": "code",
   "execution_count": 358,
   "id": "e5c52f91",
   "metadata": {
    "scrolled": true
   },
   "outputs": [
    {
     "name": "stdout",
     "output_type": "stream",
     "text": [
      "ships = [[(0, 0)], [(2, 2), (2, 3)], [(4, 0), (4, 1), (4, 2)], [(0, 2), (0, 3), (0, 4)]]\n",
      "29\n"
     ]
    }
   ],
   "source": [
    "player = 'Player'\n",
    "hid = True if player == 'AI' else False\n",
    "\n",
    "ships = [[(0,0)],\n",
    "         [(2,2),(2,3)],\n",
    "         [(4,0),(4,1),(4,2)]\n",
    "        ]\n",
    "# ships = []\n",
    "AI_board = Board(hid, ships = ships)\n",
    "AI_board.add_ship(ship_1)\n",
    "print(len(AI_board.contoured_ships()))\n",
    "\n"
   ]
  },
  {
   "cell_type": "code",
   "execution_count": 184,
   "id": "5f8a8ba9",
   "metadata": {},
   "outputs": [
    {
     "name": "stdout",
     "output_type": "stream",
     "text": [
      "  | 1 | 2 | 3 | 4 | 5 | 6\n",
      "1 | ∎ | o | ∎ | ∎ | ∎ | o\n",
      "2 | o | o | o | o | o | o\n",
      "3 | o | o | ∎ | ∎ | o | o\n",
      "4 | o | o | o | o | o | o\n",
      "5 | ∎ | ∎ | ∎ | o | o | o\n",
      "6 | o | o | o | o | o | o\n"
     ]
    }
   ],
   "source": [
    "AI_board.show_board()"
   ]
  },
  {
   "cell_type": "code",
   "execution_count": 218,
   "id": "9d4ec275",
   "metadata": {},
   "outputs": [
    {
     "name": "stdout",
     "output_type": "stream",
     "text": [
      "В какую ячейку будем стрелять?22\n",
      "111\n",
      "[['X', 'T', 'o', 'o', 'o', 'o'], ['o', 'T', 'o', 'o', 'o', 'o'], ['o', 'o', 'X', 'X', 'T', 'o'], ['o', 'o', 'o', 'o', 'o', 'o'], ['o', 'o', 'o', 'o', 'T', 'o'], ['o', 'o', 'o', 'o', 'o', 'T']]\n",
      "Ход компьютера:\n",
      "28\n"
     ]
    }
   ],
   "source": [
    "AI_board.shot()\n",
    "print(len(AI_board.player_shots_left))"
   ]
  },
  {
   "cell_type": "code",
   "execution_count": null,
   "id": "0200321b",
   "metadata": {
    "scrolled": false
   },
   "outputs": [],
   "source": []
  },
  {
   "cell_type": "code",
   "execution_count": null,
   "id": "89faa7cd",
   "metadata": {},
   "outputs": [],
   "source": []
  },
  {
   "cell_type": "code",
   "execution_count": null,
   "id": "e9cdb50a-5a64-4020-8660-9d0677da7186",
   "metadata": {},
   "outputs": [],
   "source": []
  },
  {
   "cell_type": "code",
   "execution_count": null,
   "id": "d20ddad9",
   "metadata": {},
   "outputs": [],
   "source": []
  },
  {
   "cell_type": "code",
   "execution_count": null,
   "id": "71209c06-fc2e-403c-b879-322215ff00ca",
   "metadata": {},
   "outputs": [],
   "source": []
  },
  {
   "cell_type": "code",
   "execution_count": null,
   "id": "7721bfc4",
   "metadata": {
    "scrolled": true
   },
   "outputs": [],
   "source": []
  },
  {
   "cell_type": "code",
   "execution_count": null,
   "id": "123e90c1",
   "metadata": {},
   "outputs": [],
   "source": [
    "# from random import randint\n",
    "\n",
    "# while True:\n",
    "#     row, col = randint(1,6),randint(1,6)\n",
    "#     print(row,col)\n",
    "#     shot = Dot(row, col)\n",
    "#     if shot not in PC_shots:\n",
    "#         grid[row-1][col-1] = 'X'\n",
    "#         PC_shots.append(shot)\n",
    "#         print_grid(grid)\n",
    "#         break\n",
    "\n",
    "unused_shots = []\n",
    "for i in range(6):\n",
    "    for j in range(6):\n",
    "        unused_shots.append((i,j))\n",
    "                               \n",
    "                               \n",
    "print(unused_shots[randint(1,len(unused_shots))])\n"
   ]
  },
  {
   "cell_type": "code",
   "execution_count": null,
   "id": "a2671657-3895-4f0b-922b-75d8f2841f0b",
   "metadata": {},
   "outputs": [],
   "source": [
    "\n"
   ]
  },
  {
   "cell_type": "code",
   "execution_count": 110,
   "id": "8ae3699d-289e-4d66-8425-82da97b3c105",
   "metadata": {},
   "outputs": [],
   "source": [
    "class Test:\n",
    "    a = []\n",
    "    __hid = 123\n",
    "    def __init__(self, c):\n",
    "        self.c = c\n",
    "    \n",
    "    def change_a(self, aa):\n",
    "        self.a.append(aa*self.__hid)\n",
    "        return(self.a)\n"
   ]
  },
  {
   "cell_type": "code",
   "execution_count": 113,
   "id": "fbbaed91",
   "metadata": {},
   "outputs": [
    {
     "name": "stdout",
     "output_type": "stream",
     "text": [
      "[615, 1230]\n"
     ]
    }
   ],
   "source": [
    "test = Test(10)\n",
    "print(test.change_a(10))"
   ]
  },
  {
   "cell_type": "code",
   "execution_count": 47,
   "id": "0f02f87e",
   "metadata": {},
   "outputs": [
    {
     "data": {
      "text/plain": [
       "[246, 246, 246]"
      ]
     },
     "execution_count": 47,
     "metadata": {},
     "output_type": "execute_result"
    }
   ],
   "source": [
    "test = Test(12)\n",
    "test.change_a(2)"
   ]
  },
  {
   "cell_type": "code",
   "execution_count": 40,
   "id": "a8ff9830-349c-43a4-b0fe-8add9ef02e5d",
   "metadata": {
    "scrolled": true
   },
   "outputs": [
    {
     "name": "stdout",
     "output_type": "stream",
     "text": [
      "345\n",
      "500\n"
     ]
    }
   ],
   "source": [
    "print(test.c)\n",
    "test.c = 500\n",
    "print(test.c)"
   ]
  },
  {
   "cell_type": "code",
   "execution_count": 162,
   "id": "1a16639f-30a7-469f-a2be-f2b6cf8fdcca",
   "metadata": {},
   "outputs": [
    {
     "name": "stdout",
     "output_type": "stream",
     "text": [
      "  | 1 | 2 | 3 | 4 | 5 | 6\n",
      "1 | o | o | o | o | o | o\n",
      "2 | o | o | o | o | o | o\n",
      "3 | o | o | o | o | o | o\n",
      "4 | o | o | o | o | o | o\n",
      "5 | o | o | o | o | X | o\n",
      "6 | o | o | o | o | o | o\n",
      "  | 1 | 2 | 3 | 4 | 5 | 6\n",
      "1 | o | o | o | o | o | o\n",
      "2 | o | o | o | o | o | o\n",
      "3 | o | o | o | o | o | o\n",
      "4 | o | o | o | X | o | o\n",
      "5 | o | o | o | o | X | o\n",
      "6 | o | o | o | o | o | o\n",
      "3067817364736\n",
      "3067817185984\n"
     ]
    }
   ],
   "source": [
    "grid = [['o' for i in range(6)] for i in range(6)]\n",
    "\n",
    "def print_grid(L):\n",
    "    print(*[\" \", *[i for i in range(1,7)]], sep=' | ')\n",
    "    for i in range(6):\n",
    "        print(i+1, *L[i], sep=' | ')\n",
    "    return\n",
    "\n",
    "# print_grid(grid)\n",
    "\n",
    "us_in = 55\n",
    "row = us_in // 10\n",
    "col = us_in % 10\n",
    "grid[row-1][col-1] = \"X\"\n",
    "print_grid(grid)\n",
    "\n",
    "grid_user = grid.copy()\n",
    "grid[3][3] = \"X\"\n",
    "print_grid(grid_user)\n",
    "print(id(grid_user))\n",
    "print(id(grid))"
   ]
  },
  {
   "cell_type": "code",
   "execution_count": null,
   "id": "0f2b63ff-3c43-4127-8300-5eef55f6ae8d",
   "metadata": {},
   "outputs": [],
   "source": [
    "print(user_shots)"
   ]
  },
  {
   "cell_type": "code",
   "execution_count": null,
   "id": "10bd4a63-96a1-4a6a-b00e-21b0ff4cbdee",
   "metadata": {},
   "outputs": [],
   "source": [
    "user_shots[0] == user_shots[1]"
   ]
  },
  {
   "cell_type": "code",
   "execution_count": null,
   "id": "6a217eb9-ec00-44a8-a32e-5dfd3e9e0761",
   "metadata": {},
   "outputs": [],
   "source": [
    "# Python program showing the use of\n",
    "# @property\n",
    "  \n",
    "class Geeks:\n",
    "     def __init__(self):\n",
    "          self._age = 0\n",
    "       \n",
    "     # using property decorator\n",
    "     # a getter function\n",
    "     @property\n",
    "     def age(self):\n",
    "         print(\"getter method called\")\n",
    "         return self._age\n",
    "       \n",
    "     # a setter function\n",
    "     @age.setter\n",
    "     def age(self, a):\n",
    "         if(a < 18):\n",
    "            err = ValueError(\"Sorry you age is below eligibility criteria\")\n",
    "            print(err)\n",
    "         print(\"setter method called\")\n",
    "         self._age = a\n",
    "  \n",
    "mark = Geeks()\n",
    "print(mark.age)\n",
    "mark.age = int(input())\n",
    "  \n",
    "print(mark.age)"
   ]
  },
  {
   "cell_type": "markdown",
   "id": "4170837c",
   "metadata": {},
   "source": [
    "# ВНЕШНЯЯ ЛОГИКА"
   ]
  },
  {
   "cell_type": "code",
   "execution_count": 709,
   "id": "ad9d5633",
   "metadata": {},
   "outputs": [],
   "source": [
    "                                                                                # PLAYER CLASS\n",
    "from abc import ABC\n",
    "from abc import abstractmethod\n",
    "\n",
    "class Player(ABC):\n",
    "    def __init__(self, my_board, opponent_board):\n",
    "        self.my_board = my_board\n",
    "        self.opponent_board = opponent_board\n",
    "        super().__init__()\n",
    "    \n",
    "    @abstractmethod    \n",
    "    def ask(self):\n",
    "        pass\n",
    "    \n",
    "    def move(self):\n",
    "        self.ask()\n",
    "        opponent_board.shot()"
   ]
  },
  {
   "cell_type": "code",
   "execution_count": 710,
   "id": "4250367b",
   "metadata": {},
   "outputs": [],
   "source": [
    "                                                                                # USER CLASS\n",
    "class User(Player):\n",
    "    def ask(self):\n",
    "        while True:\n",
    "            try:\n",
    "                player_shot = int(input(\"В какую ячейку будем стрелять? \"))\n",
    "                row = player_shot // 10 - 1\n",
    "                col = player_shot % 10 - 1\n",
    "#                 if row not in range(0,6) or col not in range(0,6):\n",
    "#                     raise BoardOutError(player_shot)\n",
    "                return (row, col)\n",
    "                break\n",
    "#             except BoardOutError as e:\n",
    "#                 print(e)\n",
    "#                 continue\n",
    "            \n",
    "            except Exception:\n",
    "                print('Необходимо ввести двузначное число, каждая цифра которого от 1 до 6! ')\n",
    "                continue"
   ]
  },
  {
   "cell_type": "code",
   "execution_count": 353,
   "id": "aac98cc7",
   "metadata": {},
   "outputs": [
    {
     "name": "stdout",
     "output_type": "stream",
     "text": [
      "В какую ячейку будем стрелять? 88\n"
     ]
    },
    {
     "data": {
      "text/plain": [
       "(7, 7)"
      ]
     },
     "execution_count": 353,
     "metadata": {},
     "output_type": "execute_result"
    }
   ],
   "source": [
    "user = User(1,2)\n",
    "user.ask()"
   ]
  },
  {
   "cell_type": "code",
   "execution_count": 457,
   "id": "bd524ba8",
   "metadata": {},
   "outputs": [],
   "source": [
    "hid = True\n",
    "opponent_board = Board(hid)"
   ]
  },
  {
   "cell_type": "code",
   "execution_count": 711,
   "id": "6bdfc365",
   "metadata": {
    "scrolled": true
   },
   "outputs": [],
   "source": [
    "                                                                                    # AI CLASS\n",
    "\n",
    "from random import randint\n",
    "\n",
    "class AI(Player):\n",
    "    def ask(self):\n",
    "        shot = opponent_board.player_shots_left[randint(0,len(opponent_board.player_shots_left)-1)]\n",
    "        return shot.show\n"
   ]
  },
  {
   "cell_type": "code",
   "execution_count": 712,
   "id": "477f7891",
   "metadata": {},
   "outputs": [],
   "source": [
    "                                                                        # Создание полей и игроков\n",
    "user_board = Board(hid = False)\n",
    "ai_board = Board(hid = True)\n",
    "user = User(user_board, ai_board)\n",
    "ai = AI(ai_board, user_board)"
   ]
  },
  {
   "cell_type": "code",
   "execution_count": 621,
   "id": "ee5abd76",
   "metadata": {},
   "outputs": [
    {
     "name": "stdout",
     "output_type": "stream",
     "text": [
      "111\n",
      "[['o', 'o', 'o', 'o', 'o', 'o'], ['o', 'o', 'o', 'o', 'o', 'T'], ['o', 'o', 'o', 'o', 'o', 'o'], ['o', 'o', 'o', 'o', 'o', 'o'], ['o', 'o', 'o', 'o', 'o', 'o'], ['o', 'o', 'o', 'o', 'o', 'o']]\n",
      "Ход компьютера:\n"
     ]
    }
   ],
   "source": [
    "ai.opponent_board.shot(*ai.ask())"
   ]
  },
  {
   "cell_type": "code",
   "execution_count": 713,
   "id": "65239a14",
   "metadata": {},
   "outputs": [],
   "source": [
    "from random import randint\n",
    "\n",
    "class Game:\n",
    "    def __init__(self, user, user_board, AI, AI_board):\n",
    "        self.user = user\n",
    "        self.user_board = user_board\n",
    "        self.AI = AI\n",
    "        self.AI_board = AI_board\n",
    "\n",
    "    def random_board(self):\n",
    "        ship_types = [(3, 1), (2, 2), (1, 4)]           # формат - (длина корабля, количество кораблей)\n",
    "\n",
    "\n",
    "        for i in ship_types:\n",
    "            for j in range(i[1]):\n",
    "                rand_front = self.user_board.player_shots_left[randint(0, len(self.user_board.player_shots_left))].show\n",
    "                ship = Ship(i[0], rand_front, randint(1,2), i[0])\n",
    "                print(i[0], rand_front, randint(1,2), i[0])\n",
    "                ship.dots()\n",
    "                self.user_board.add_ship(ship)\n",
    "\n",
    "        \n",
    "        \n",
    "        \n",
    "#         create a board\n",
    "#         apply to user_board\n",
    "        \n",
    "#         create a board\n",
    "#         AI_board\n",
    "    \n",
    "\n",
    "    def greet(self):\n",
    "        print('''Приветствую Вас, друг мой!\n",
    "Перед началом игры позвольте рассказать о ее правилах''')\n",
    "    \n",
    "    def loop(self):\n",
    "        while True:\n",
    "            user.move()\n",
    "            if ai.AI_board.alive_ships == 0:\n",
    "                print('User wins!')\n",
    "                break\n",
    "            ai.move()\n",
    "            if user.user_board.alive_ships == 0:\n",
    "                print('AI wins!')\n",
    "                break\n",
    "    def start(self):\n",
    "        self.greet()\n",
    "        self.loop()\n"
   ]
  },
  {
   "cell_type": "code",
   "execution_count": 714,
   "id": "b76fb226",
   "metadata": {},
   "outputs": [
    {
     "name": "stdout",
     "output_type": "stream",
     "text": [
      "3 (0, 5) 2 3\n",
      "ships = [[(0, 5), (0, 6), (0, 7)]]\n"
     ]
    },
    {
     "ename": "ValueError",
     "evalue": "list.remove(x): x not in list",
     "output_type": "error",
     "traceback": [
      "\u001b[1;31m---------------------------------------------------------------------------\u001b[0m",
      "\u001b[1;31mValueError\u001b[0m                                Traceback (most recent call last)",
      "\u001b[1;32mC:\\Users\\GALYM~1.ZHU\\AppData\\Local\\Temp/ipykernel_14848/2146183435.py\u001b[0m in \u001b[0;36m<module>\u001b[1;34m\u001b[0m\n\u001b[0;32m      1\u001b[0m \u001b[0mg\u001b[0m \u001b[1;33m=\u001b[0m \u001b[0mGame\u001b[0m\u001b[1;33m(\u001b[0m\u001b[0muser\u001b[0m\u001b[1;33m,\u001b[0m \u001b[0muser_board\u001b[0m\u001b[1;33m,\u001b[0m \u001b[0mAI\u001b[0m\u001b[1;33m,\u001b[0m \u001b[0mAI_board\u001b[0m\u001b[1;33m)\u001b[0m\u001b[1;33m\u001b[0m\u001b[1;33m\u001b[0m\u001b[0m\n\u001b[1;32m----> 2\u001b[1;33m \u001b[0mg\u001b[0m\u001b[1;33m.\u001b[0m\u001b[0mrandom_board\u001b[0m\u001b[1;33m(\u001b[0m\u001b[1;33m)\u001b[0m\u001b[1;33m\u001b[0m\u001b[1;33m\u001b[0m\u001b[0m\n\u001b[0m",
      "\u001b[1;32mC:\\Users\\GALYM~1.ZHU\\AppData\\Local\\Temp/ipykernel_14848/2219206010.py\u001b[0m in \u001b[0;36mrandom_board\u001b[1;34m(self)\u001b[0m\n\u001b[0;32m     18\u001b[0m                 \u001b[0mprint\u001b[0m\u001b[1;33m(\u001b[0m\u001b[0mi\u001b[0m\u001b[1;33m[\u001b[0m\u001b[1;36m0\u001b[0m\u001b[1;33m]\u001b[0m\u001b[1;33m,\u001b[0m \u001b[0mrand_front\u001b[0m\u001b[1;33m,\u001b[0m \u001b[0mrandint\u001b[0m\u001b[1;33m(\u001b[0m\u001b[1;36m1\u001b[0m\u001b[1;33m,\u001b[0m\u001b[1;36m2\u001b[0m\u001b[1;33m)\u001b[0m\u001b[1;33m,\u001b[0m \u001b[0mi\u001b[0m\u001b[1;33m[\u001b[0m\u001b[1;36m0\u001b[0m\u001b[1;33m]\u001b[0m\u001b[1;33m)\u001b[0m\u001b[1;33m\u001b[0m\u001b[1;33m\u001b[0m\u001b[0m\n\u001b[0;32m     19\u001b[0m                 \u001b[0mship\u001b[0m\u001b[1;33m.\u001b[0m\u001b[0mdots\u001b[0m\u001b[1;33m(\u001b[0m\u001b[1;33m)\u001b[0m\u001b[1;33m\u001b[0m\u001b[1;33m\u001b[0m\u001b[0m\n\u001b[1;32m---> 20\u001b[1;33m                 \u001b[0mself\u001b[0m\u001b[1;33m.\u001b[0m\u001b[0muser_board\u001b[0m\u001b[1;33m.\u001b[0m\u001b[0madd_ship\u001b[0m\u001b[1;33m(\u001b[0m\u001b[0mship\u001b[0m\u001b[1;33m)\u001b[0m\u001b[1;33m\u001b[0m\u001b[1;33m\u001b[0m\u001b[0m\n\u001b[0m\u001b[0;32m     21\u001b[0m \u001b[1;33m\u001b[0m\u001b[0m\n\u001b[0;32m     22\u001b[0m \u001b[1;33m\u001b[0m\u001b[0m\n",
      "\u001b[1;32mC:\\Users\\GALYM~1.ZHU\\AppData\\Local\\Temp/ipykernel_14848/1642757352.py\u001b[0m in \u001b[0;36madd_ship\u001b[1;34m(self, ship)\u001b[0m\n\u001b[0;32m     31\u001b[0m \u001b[1;33m\u001b[0m\u001b[0m\n\u001b[0;32m     32\u001b[0m         \u001b[1;32mfor\u001b[0m \u001b[0mi\u001b[0m \u001b[1;32min\u001b[0m \u001b[0mship\u001b[0m\u001b[1;33m.\u001b[0m\u001b[0mdots\u001b[0m\u001b[1;33m(\u001b[0m\u001b[1;33m)\u001b[0m\u001b[1;33m:\u001b[0m\u001b[1;33m\u001b[0m\u001b[1;33m\u001b[0m\u001b[0m\n\u001b[1;32m---> 33\u001b[1;33m             \u001b[0mplayer_shots_left\u001b[0m\u001b[1;33m.\u001b[0m\u001b[0mremove\u001b[0m\u001b[1;33m(\u001b[0m\u001b[0mi\u001b[0m\u001b[1;33m)\u001b[0m\u001b[1;33m\u001b[0m\u001b[1;33m\u001b[0m\u001b[0m\n\u001b[0m\u001b[0;32m     34\u001b[0m \u001b[1;33m\u001b[0m\u001b[0m\n\u001b[0;32m     35\u001b[0m \u001b[1;33m\u001b[0m\u001b[0m\n",
      "\u001b[1;31mValueError\u001b[0m: list.remove(x): x not in list"
     ]
    }
   ],
   "source": [
    "g = Game(user, user_board, AI, AI_board)\n",
    "g.random_board()"
   ]
  },
  {
   "cell_type": "code",
   "execution_count": 715,
   "id": "6820cad3",
   "metadata": {},
   "outputs": [
    {
     "data": {
      "text/plain": [
       "36"
      ]
     },
     "execution_count": 715,
     "metadata": {},
     "output_type": "execute_result"
    }
   ],
   "source": [
    "len(g.user_board.player_shots_left)"
   ]
  },
  {
   "cell_type": "code",
   "execution_count": 666,
   "id": "11961549",
   "metadata": {
    "scrolled": true
   },
   "outputs": [],
   "source": [
    "import sys\n",
    "\n",
    "while True:\n",
    "    g = Game(user, user_board, AI, AI_board)\n",
    "    g.start()\n",
    "    play_again = input('Хотите сыграть еще раз? Если да, то введите 1, если нет, то - любой другой символ')\n",
    "    if play_again == '1':\n",
    "        continue\n",
    "    else:\n",
    "        sys.exit('До скорой встречи!')    \n",
    "    \n"
   ]
  },
  {
   "cell_type": "code",
   "execution_count": 663,
   "id": "7f9b9084",
   "metadata": {},
   "outputs": [
    {
     "name": "stdout",
     "output_type": "stream",
     "text": [
      "[(5, 6)]\n"
     ]
    }
   ],
   "source": [
    "a = [(1,2),(3,4)]\n",
    "b = [(1,2),(3,4),(5,6)]\n",
    "for i in a:\n",
    "    b.remove(i)\n",
    "print(b)"
   ]
  }
 ],
 "metadata": {
  "kernelspec": {
   "display_name": "Python 3 (ipykernel)",
   "language": "python",
   "name": "python3"
  },
  "language_info": {
   "codemirror_mode": {
    "name": "ipython",
    "version": 3
   },
   "file_extension": ".py",
   "mimetype": "text/x-python",
   "name": "python",
   "nbconvert_exporter": "python",
   "pygments_lexer": "ipython3",
   "version": "3.9.7"
  }
 },
 "nbformat": 4,
 "nbformat_minor": 5
}
