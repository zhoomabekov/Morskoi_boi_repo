{
 "cells": [
  {
   "cell_type": "markdown",
   "id": "95155a30",
   "metadata": {
    "tags": []
   },
   "source": [
    "## Логика игры\n",
    "\n",
    "Приветствие и правила игры\n",
    "\n",
    "Показ игровой доски ИИ (все в нулях)\n",
    "\n",
    "Создание рандомных кораблей на доске ИИ\n",
    "\n",
    "Запрос создания кораблей Игрока (показ при каждом размещении кораблей)\n",
    "\n",
    "### Loop:\n",
    "Ход игрока\n",
    "\n",
    "Проверка правильности хода\n",
    "\n",
    "Размещение на доске ИИ и отображение его доски\n",
    "\n",
    "Проверка на ПОБЕДУ\n",
    "\n",
    "Ход ИИ и отображение доски Игрока\n",
    "\n",
    "Проверка на ПОБЕДУ\n"
   ]
  },
  {
   "cell_type": "markdown",
   "id": "0fc48a86",
   "metadata": {},
   "source": [
    "# ...Error Classes"
   ]
  },
  {
   "cell_type": "code",
   "execution_count": 77,
   "id": "25c90594",
   "metadata": {},
   "outputs": [],
   "source": [
    "class BoardOutError(Exception):\n",
    "    def __init__(self,value):\n",
    "        self.value = value\n",
    "    \n",
    "    def __str__(self):\n",
    "        return f\"{self.value} лежит за пределами игрового поля. Введите двузначное число, каждая цифра которого от 1 до 6, включительно.\"\n",
    "\n",
    "class NonEmptyError(Exception):\n",
    "    def __init__(self,value):\n",
    "        self.value = value\n",
    "    \n",
    "    def __str__(self):\n",
    "        return f\"Выбраная ячейка - {self.value} - непустая. Стрелять можно только в пустые ячейки.\"\n",
    "\n",
    "class ShipLocationError(Exception):\n",
    "    def __init__(self,length, front, direction):\n",
    "        self.length = length\n",
    "        self.front = front\n",
    "        self.direction = direction\n",
    "    \n",
    "    def __str__(self):\n",
    "        return f\"Указанные параметры - длина ({self.length}), положение носа корабля ({self.front}) и направление ({self.direction}) не позволяют корректно разместить корабль на игровом поле.\"\n",
    "    "
   ]
  },
  {
   "cell_type": "markdown",
   "id": "bb9b629e",
   "metadata": {},
   "source": [
    "# ...Board, Ship, Dot Classes"
   ]
  },
  {
   "cell_type": "code",
   "execution_count": 2,
   "id": "91bf5428-f365-444e-af22-c4eec68d2ec6",
   "metadata": {},
   "outputs": [],
   "source": [
    "class Dot:\n",
    "    def __init__(self, row, col):\n",
    "        self.row = row\n",
    "        self.col = col\n",
    "        \n",
    "    def __eq__(self, other):\n",
    "        return self.row == other.row and self.col == other.col\n",
    "    \n",
    "    @property\n",
    "    def show(self):\n",
    "        return(self.row, self.col)"
   ]
  },
  {
   "cell_type": "code",
   "execution_count": 14,
   "id": "a7423039",
   "metadata": {},
   "outputs": [],
   "source": [
    "grid = [['o' for i in range(6)] for i in range(6)]\n",
    "\n",
    "def print_grid(L):\n",
    "    print(*[\" \", *[i for i in range(1,7)]], sep=' | ')\n",
    "    for i in range(6):\n",
    "        print(i+1, *L[i], sep=' | ')\n",
    "    return"
   ]
  },
  {
   "cell_type": "code",
   "execution_count": 49,
   "id": "b4f77499-680a-49e9-83d2-f32843ebfbcb",
   "metadata": {},
   "outputs": [],
   "source": [
    "class Ship:\n",
    "    def __init__(self, length, front, direction, life):\n",
    "        self.length = length\n",
    "        self.front = front\n",
    "        self.direction = direction\n",
    "        self.life = life\n",
    "    \n",
    "    def dots(self):\n",
    "        ship_cells = []\n",
    "        for i in range(self.length):\n",
    "            cell = (self.front[0] + self.direction[1]*(i), self.front[1] + self.direction[0]*(i))\n",
    "            ship_cells.append(cell)\n",
    "        return ship_cells\n"
   ]
  },
  {
   "cell_type": "code",
   "execution_count": 97,
   "id": "573ff351",
   "metadata": {
    "scrolled": true
   },
   "outputs": [
    {
     "data": {
      "text/plain": [
       "[(1, 3), (1, 4), (1, 5), (1, 6)]"
      ]
     },
     "execution_count": 97,
     "metadata": {},
     "output_type": "execute_result"
    }
   ],
   "source": [
    "ship_1 = Ship(4,(1,3),(1,0),3)\n",
    "ship_1.dots()\n",
    "\n"
   ]
  },
  {
   "cell_type": "code",
   "execution_count": 100,
   "id": "c3065f13",
   "metadata": {},
   "outputs": [
    {
     "name": "stdout",
     "output_type": "stream",
     "text": [
      "{(1, 3), (1, 4)}\n"
     ]
    }
   ],
   "source": [
    "a = [(1, 3), (1, 4), (1, 3), (1, 4)]\n",
    "print(set(a))\n"
   ]
  },
  {
   "cell_type": "code",
   "execution_count": 2,
   "id": "e4031011",
   "metadata": {
    "scrolled": false
   },
   "outputs": [
    {
     "ename": "NameError",
     "evalue": "name 'Board' is not defined",
     "output_type": "error",
     "traceback": [
      "\u001b[1;31m---------------------------------------------------------------------------\u001b[0m",
      "\u001b[1;31mNameError\u001b[0m                                 Traceback (most recent call last)",
      "\u001b[1;32mC:\\Users\\GALYM~1.ZHU\\AppData\\Local\\Temp/ipykernel_14848/2802808808.py\u001b[0m in \u001b[0;36m<module>\u001b[1;34m\u001b[0m\n\u001b[1;32m----> 1\u001b[1;33m \u001b[1;32mclass\u001b[0m \u001b[0mBoard\u001b[0m\u001b[1;33m:\u001b[0m\u001b[1;33m\u001b[0m\u001b[1;33m\u001b[0m\u001b[0m\n\u001b[0m\u001b[0;32m      2\u001b[0m     \u001b[0mPOSSIBLE_CELLS\u001b[0m \u001b[1;33m=\u001b[0m \u001b[1;33m[\u001b[0m\u001b[1;33m]\u001b[0m\u001b[1;33m\u001b[0m\u001b[1;33m\u001b[0m\u001b[0m\n\u001b[0;32m      3\u001b[0m     \u001b[1;32mfor\u001b[0m \u001b[0mi\u001b[0m \u001b[1;32min\u001b[0m \u001b[0mrange\u001b[0m\u001b[1;33m(\u001b[0m\u001b[1;36m6\u001b[0m\u001b[1;33m)\u001b[0m\u001b[1;33m:\u001b[0m\u001b[1;33m\u001b[0m\u001b[1;33m\u001b[0m\u001b[0m\n\u001b[0;32m      4\u001b[0m         \u001b[1;32mfor\u001b[0m \u001b[0mj\u001b[0m \u001b[1;32min\u001b[0m \u001b[0mrange\u001b[0m\u001b[1;33m(\u001b[0m\u001b[1;36m6\u001b[0m\u001b[1;33m)\u001b[0m\u001b[1;33m:\u001b[0m\u001b[1;33m\u001b[0m\u001b[1;33m\u001b[0m\u001b[0m\n\u001b[0;32m      5\u001b[0m             \u001b[0mPOSSIBLE_CELLS\u001b[0m\u001b[1;33m.\u001b[0m\u001b[0mappend\u001b[0m\u001b[1;33m(\u001b[0m\u001b[1;33m(\u001b[0m\u001b[0mi\u001b[0m\u001b[1;33m,\u001b[0m\u001b[0mj\u001b[0m\u001b[1;33m)\u001b[0m\u001b[1;33m)\u001b[0m\u001b[1;33m\u001b[0m\u001b[1;33m\u001b[0m\u001b[0m\n",
      "\u001b[1;32mC:\\Users\\GALYM~1.ZHU\\AppData\\Local\\Temp/ipykernel_14848/2802808808.py\u001b[0m in \u001b[0;36mBoard\u001b[1;34m()\u001b[0m\n\u001b[0;32m     20\u001b[0m \u001b[1;33m\u001b[0m\u001b[0m\n\u001b[0;32m     21\u001b[0m     \u001b[0mexisting_ships_dots\u001b[0m \u001b[1;33m=\u001b[0m \u001b[1;33m[\u001b[0m\u001b[1;33m]\u001b[0m\u001b[1;33m\u001b[0m\u001b[1;33m\u001b[0m\u001b[0m\n\u001b[1;32m---> 22\u001b[1;33m     \u001b[1;32mfor\u001b[0m \u001b[0mi\u001b[0m \u001b[1;32min\u001b[0m \u001b[0mrange\u001b[0m\u001b[1;33m(\u001b[0m\u001b[0mlen\u001b[0m\u001b[1;33m(\u001b[0m\u001b[0mBoard\u001b[0m\u001b[1;33m.\u001b[0m\u001b[0mships\u001b[0m\u001b[1;33m)\u001b[0m\u001b[1;33m)\u001b[0m\u001b[1;33m:\u001b[0m\u001b[1;33m\u001b[0m\u001b[1;33m\u001b[0m\u001b[0m\n\u001b[0m\u001b[0;32m     23\u001b[0m         \u001b[0mexisting_ships_dots\u001b[0m \u001b[1;33m+=\u001b[0m \u001b[0mBoard\u001b[0m\u001b[1;33m.\u001b[0m\u001b[0mships\u001b[0m\u001b[1;33m[\u001b[0m\u001b[0mi\u001b[0m\u001b[1;33m]\u001b[0m\u001b[1;33m\u001b[0m\u001b[1;33m\u001b[0m\u001b[0m\n\u001b[0;32m     24\u001b[0m     \u001b[0mprint\u001b[0m\u001b[1;33m(\u001b[0m\u001b[0mexisting_ships_dots\u001b[0m\u001b[1;33m)\u001b[0m\u001b[1;33m\u001b[0m\u001b[1;33m\u001b[0m\u001b[0m\n",
      "\u001b[1;31mNameError\u001b[0m: name 'Board' is not defined"
     ]
    }
   ],
   "source": [
    "class Board:\n",
    "    POSSIBLE_CELLS = []\n",
    "    for i in range(6):\n",
    "        for j in range(6):\n",
    "            POSSIBLE_CELLS.append((i,j))\n",
    "#     print(POSSIBLE_CELLS)\n",
    "    \n",
    "    vacant_dots = POSSIBLE_CELLS.copy()\n",
    "#     print(vacant_dots)\n",
    "    \n",
    "    start_cells_conditions = ['filled with zeros']\n",
    "       \n",
    "    __s = u'\\u220E'     #код квадрата в системе unicode \n",
    "    \n",
    "    def __init__(self, hid, cells_conditions = start_cells_conditions, ships = [], alive_ships = 7):\n",
    "        self.cells_conditions = cells_conditions    # list\n",
    "        self.ships = ships                          # list with all ships\n",
    "        self.hid = hid                              # bool\n",
    "        self.alive_ships = alive_ships              # int\n",
    "        \n",
    "        existing_ships_dots = []\n",
    "        for i in range(len(Board.ships)):\n",
    "            existing_ships_dots += Board.ships[i]\n",
    "        print(existing_ships_dots)\n",
    "    \n",
    "    \n",
    "    \n",
    "   \n",
    "    def add_ship(self, ship):      #ставит корабль на доску (если ставить не получается, выбрасываем исключения)\n",
    "        for i in range(len(ship.dots())):\n",
    "            if ship.dots()[i] in existing_ships_dots: #or ship.dots()[i] in self.contour(self.ships):\n",
    "                raise ShipLocationError(ship.length, ship.front, ship.direction)\n",
    "        self.ships.append(ship.dots())\n",
    "        print(f'ships = {self.ships}')\n",
    "            \n",
    "    \n",
    "    def contoured_ships(self):      # точки всех кораблей + их контуров\n",
    "        contoured_ships_dots = []\n",
    "        for dot in range(len(existing_ships_dots)):\n",
    "            for i in [-1, 0, 1]:\n",
    "                for j in [-1, 0, 1]:\n",
    "                    tested_dot = (existing_ships_dots[dot][0] + i, existing_ships_dots[dot][1] + j)\n",
    "                    if tested_dot in self.POSSIBLE_CELLS:\n",
    "                        contoured_ships_dots.append(tested_dot)\n",
    "        return contoured_ships_dots\n",
    "                \n",
    "        \n",
    "    def show_board(self):      #выводит доску в консоль в зависимости от параметра hid.\n",
    "        if not hid:\n",
    "            return self.ships\n",
    "    \n",
    "    def out(self, dot):      #для точки (объекта класса Dot) возвращает True, если точка выходит за пределы поля\n",
    "        if dot in self.POSSIBLE_CELLS:\n",
    "            return False\n",
    "        else:\n",
    "            return True\n",
    "    \n",
    "    def shot(self):         #делает выстрел по доске (если есть попытка выстрелить за \\\n",
    "                            #пределы и в использованную точку, нужно выбрасывать исключения\n",
    "        while True:         #Loop для получения правильного ввода от Игрока\n",
    "            try:\n",
    "                player_shot = int(input(\"В какую ячейку будем стрелять?\"))\n",
    "                row = player_shot // 10\n",
    "                col = player_shot % 10\n",
    "\n",
    "                if self.out((row-1, col-1)):\n",
    "                    err = BoardOutError(player_shot)\n",
    "                    print(err)\n",
    "                else:\n",
    "                    player_shots_left = [Dot(1,1),Dot(2,2)]\n",
    "                    shot = Dot(row,col)\n",
    "                    \n",
    "                    if shot not in player_shots_left:\n",
    "                        err = NonEmptyError(player_shot)\n",
    "                        print(err)\n",
    "                    else:\n",
    "                        if self.ships[row-1][col-1] == 'o':\n",
    "                            self.cells_conditions[row-1][col-1] = 'T'\n",
    "                            player_shots_left.remove(Dot(row,col))\n",
    "                            print(self.cells_conditions)\n",
    "                        else:\n",
    "                            self.cells_conditions[row-1][col-1] = 'X'\n",
    "                            player_shots_left.remove(Dot(row,col))\n",
    "                            print(self.cells_conditions)\n",
    "                        print('Ход компьютера:')\n",
    "                        break\n",
    "\n",
    "            except Exception:\n",
    "                print('Необходимо ввести двузначное число!')"
   ]
  },
  {
   "cell_type": "code",
   "execution_count": 96,
   "id": "69d43780",
   "metadata": {},
   "outputs": [
    {
     "name": "stdout",
     "output_type": "stream",
     "text": [
      "[(1, 1), (3, 3), (3, 4), (5, 1), (5, 2), (5, 3)]\n",
      "ships = [[(1, 1)], [(3, 3), (3, 4)], [(5, 1), (5, 2), (5, 3)], [(1, 3), (1, 4), (1, 5), (1, 6)]]\n"
     ]
    }
   ],
   "source": [
    "player = 'Player'\n",
    "hid = True if player == 'AI' else False\n",
    "\n",
    "ships = [[(1,1)],\n",
    "         [(3,3),(3,4)],\n",
    "         [(5,1),(5,2),(5,3)]\n",
    "        ]\n",
    "\n",
    "AI_board = Board(hid, ships = ships)\n",
    "AI_board.add_ship(ship_1)"
   ]
  },
  {
   "cell_type": "code",
   "execution_count": 48,
   "id": "0200321b",
   "metadata": {},
   "outputs": [
    {
     "name": "stdout",
     "output_type": "stream",
     "text": [
      "[(1, 1), (3, 3), (3, 4), (5, 1), (5, 2), (5, 3)]\n",
      "[(1, 1), (3, 3), (3, 4), (5, 1), (5, 2), (5, 3)]\n"
     ]
    }
   ],
   "source": [
    "ships = [[(1,1)],\n",
    "         [(3,3),(3,4)],\n",
    "         [(5,1),(5,2),(5,3)]\n",
    "        ]\n",
    "ship_dots = []\n",
    "for i in range(len(ships)):\n",
    "    ship_dots += ships[i]\n",
    "\n",
    "print(ship_dots)\n",
    "print(ships[0]+ships[1]+ships[2])\n"
   ]
  },
  {
   "cell_type": "code",
   "execution_count": null,
   "id": "e9cdb50a-5a64-4020-8660-9d0677da7186",
   "metadata": {},
   "outputs": [],
   "source": [
    "ship_1 = Ship(3,(2,2),(0,1),3)\n",
    "print(ship_1)\n",
    "ship_1_cells = ship_1.dots()\n",
    "print(ship_1_cells)\n",
    "\n",
    "for i in range(len(ship_1_cells)):\n",
    "    row = ship_1_cells[i][0]\n",
    "    col = ship_1_cells[i][1]\n",
    "    print(row, col)\n",
    "    \n",
    "    grid[row-1][col-1] = \"X\"\n",
    "\n",
    "print_grid(grid)"
   ]
  },
  {
   "cell_type": "code",
   "execution_count": 52,
   "id": "d20ddad9",
   "metadata": {},
   "outputs": [
    {
     "ename": "AttributeError",
     "evalue": "'Board' object has no attribute 'player_shots_left'",
     "output_type": "error",
     "traceback": [
      "\u001b[1;31m---------------------------------------------------------------------------\u001b[0m",
      "\u001b[1;31mAttributeError\u001b[0m                            Traceback (most recent call last)",
      "\u001b[1;32mC:\\Users\\GALYM~1.ZHU\\AppData\\Local\\Temp/ipykernel_8816/4068770311.py\u001b[0m in \u001b[0;36m<module>\u001b[1;34m\u001b[0m\n\u001b[1;32m----> 1\u001b[1;33m \u001b[0mAI_board\u001b[0m\u001b[1;33m.\u001b[0m\u001b[0mplayer_shots_left\u001b[0m\u001b[1;33m\u001b[0m\u001b[1;33m\u001b[0m\u001b[0m\n\u001b[0m",
      "\u001b[1;31mAttributeError\u001b[0m: 'Board' object has no attribute 'player_shots_left'"
     ]
    }
   ],
   "source": [
    "AI_board.player_shots_left"
   ]
  },
  {
   "cell_type": "code",
   "execution_count": null,
   "id": "71209c06-fc2e-403c-b879-322215ff00ca",
   "metadata": {},
   "outputs": [],
   "source": [
    "while True:      #Loop для получения правильного ввода от Игрока\n",
    "    try:\n",
    "        user_shot = int(input(\"В какую ячейку будем стрелять?\"))\n",
    "        row = user_shot // 10\n",
    "        col = user_shot % 10\n",
    "\n",
    "        if row not in range(1,7) or col not in range(1,7):\n",
    "            err = BoardOutError(user_shot)\n",
    "            print(err)\n",
    "\n",
    "        else:\n",
    "            shot = Dot(row,col)\n",
    "            if shot in user_shots:\n",
    "                err = NonEmptyError(user_shot)\n",
    "                print(err)\n",
    "            else:\n",
    "                grid[row-1][col-1] = 'X'\n",
    "                user_shots.append(shot)\n",
    "                print_grid(grid)\n",
    "                print('Ход компьютера:')\n",
    "                break\n",
    "\n",
    "    except Exception:\n",
    "        print('Необходимо ввести двузначное число!')"
   ]
  },
  {
   "cell_type": "code",
   "execution_count": null,
   "id": "7721bfc4",
   "metadata": {
    "scrolled": true
   },
   "outputs": [],
   "source": [
    "for i in range(len(user_shots)):\n",
    "    print(i, user_shots[i].rtrn())\n",
    "user_shots[2] == user_shots[2]\n"
   ]
  },
  {
   "cell_type": "code",
   "execution_count": null,
   "id": "123e90c1",
   "metadata": {},
   "outputs": [],
   "source": [
    "# from random import randint\n",
    "\n",
    "# while True:\n",
    "#     row, col = randint(1,6),randint(1,6)\n",
    "#     print(row,col)\n",
    "#     shot = Dot(row, col)\n",
    "#     if shot not in PC_shots:\n",
    "#         grid[row-1][col-1] = 'X'\n",
    "#         PC_shots.append(shot)\n",
    "#         print_grid(grid)\n",
    "#         break\n",
    "\n",
    "unused_shots = []\n",
    "for i in range(6):\n",
    "    for j in range(6):\n",
    "        unused_shots.append((i,j))\n",
    "                               \n",
    "                               \n",
    "print(unused_shots[randint(1,len(unused_shots))])\n"
   ]
  },
  {
   "cell_type": "code",
   "execution_count": null,
   "id": "a2671657-3895-4f0b-922b-75d8f2841f0b",
   "metadata": {},
   "outputs": [],
   "source": [
    "s = u'\\u220E'     #код квадрата в системе unicode \n"
   ]
  },
  {
   "cell_type": "code",
   "execution_count": 110,
   "id": "8ae3699d-289e-4d66-8425-82da97b3c105",
   "metadata": {},
   "outputs": [],
   "source": [
    "class Test:\n",
    "    a = []\n",
    "    __hid = 123\n",
    "    def __init__(self, c):\n",
    "        self.c = c\n",
    "    \n",
    "    def change_a(self, aa):\n",
    "        self.a.append(aa*self.__hid)\n",
    "        return(self.a)\n"
   ]
  },
  {
   "cell_type": "code",
   "execution_count": 113,
   "id": "2767d908",
   "metadata": {},
   "outputs": [
    {
     "name": "stdout",
     "output_type": "stream",
     "text": [
      "[615, 1230]\n"
     ]
    }
   ],
   "source": [
    "test = Test(10)\n",
    "print(test.change_a(10))"
   ]
  },
  {
   "cell_type": "code",
   "execution_count": 47,
   "id": "c6ea269b",
   "metadata": {},
   "outputs": [
    {
     "data": {
      "text/plain": [
       "[246, 246, 246]"
      ]
     },
     "execution_count": 47,
     "metadata": {},
     "output_type": "execute_result"
    }
   ],
   "source": [
    "test = Test(12)\n",
    "test.change_a(2)"
   ]
  },
  {
   "cell_type": "code",
   "execution_count": 40,
   "id": "a8ff9830-349c-43a4-b0fe-8add9ef02e5d",
   "metadata": {
    "scrolled": true
   },
   "outputs": [
    {
     "name": "stdout",
     "output_type": "stream",
     "text": [
      "345\n",
      "500\n"
     ]
    }
   ],
   "source": [
    "print(test.c)\n",
    "test.c = 500\n",
    "print(test.c)"
   ]
  },
  {
   "cell_type": "code",
   "execution_count": null,
   "id": "1a16639f-30a7-469f-a2be-f2b6cf8fdcca",
   "metadata": {},
   "outputs": [],
   "source": [
    "grid = [['o' for i in range(6)] for i in range(6)]\n",
    "\n",
    "def print_grid(L):\n",
    "    print(*[\" \", *[i for i in range(1,7)]], sep=' | ')\n",
    "    for i in range(6):\n",
    "        print(i+1, *L[i], sep=' | ')\n",
    "    return\n",
    "\n",
    "# print_grid(grid)\n",
    "\n",
    "us_in = 55\n",
    "row = us_in // 10\n",
    "col = us_in % 10\n",
    "grid[row-1][col-1] = \"X\"\n",
    "print_grid(grid)\n",
    "\n",
    "grid_user = grid.copy()\n",
    "grid[3][3] = \"X\"\n",
    "print_grid(grid_user)\n",
    "print(id(grid_user))\n",
    "print(id(grid))"
   ]
  },
  {
   "cell_type": "code",
   "execution_count": null,
   "id": "0f2b63ff-3c43-4127-8300-5eef55f6ae8d",
   "metadata": {},
   "outputs": [],
   "source": [
    "print(user_shots)"
   ]
  },
  {
   "cell_type": "code",
   "execution_count": null,
   "id": "10bd4a63-96a1-4a6a-b00e-21b0ff4cbdee",
   "metadata": {},
   "outputs": [],
   "source": [
    "user_shots[0] == user_shots[1]"
   ]
  },
  {
   "cell_type": "code",
   "execution_count": null,
   "id": "6a217eb9-ec00-44a8-a32e-5dfd3e9e0761",
   "metadata": {},
   "outputs": [],
   "source": [
    "# Python program showing the use of\n",
    "# @property\n",
    "  \n",
    "class Geeks:\n",
    "     def __init__(self):\n",
    "          self._age = 0\n",
    "       \n",
    "     # using property decorator\n",
    "     # a getter function\n",
    "     @property\n",
    "     def age(self):\n",
    "         print(\"getter method called\")\n",
    "         return self._age\n",
    "       \n",
    "     # a setter function\n",
    "     @age.setter\n",
    "     def age(self, a):\n",
    "         if(a < 18):\n",
    "            err = ValueError(\"Sorry you age is below eligibility criteria\")\n",
    "            print(err)\n",
    "         print(\"setter method called\")\n",
    "         self._age = a\n",
    "  \n",
    "mark = Geeks()\n",
    "print(mark.age)\n",
    "mark.age = int(input())\n",
    "  \n",
    "print(mark.age)"
   ]
  },
  {
   "cell_type": "markdown",
   "id": "4170837c",
   "metadata": {},
   "source": [
    "# ВНЕШНЯЯ ЛОГИКА"
   ]
  },
  {
   "cell_type": "code",
   "execution_count": null,
   "id": "ad9d5633",
   "metadata": {},
   "outputs": [],
   "source": [
    "class Player:\n",
    "    def __init__(self, )\n",
    "    \n",
    "    @property\n",
    "    def my_board(self):\n",
    "        self.xxx = Board(grid_ships)\n",
    "    \n",
    "    @property\n",
    "    def opponent_board(self):\n",
    "        self.xxx = Board(grid_ships)\n",
    "        \n",
    "    def ask(self):\n",
    "        pass\n",
    "    \n",
    "    def move(self):\n",
    "        while True:\n",
    "            self.Player.ask()\n",
    "            \n",
    "            "
   ]
  }
 ],
 "metadata": {
  "kernelspec": {
   "display_name": "Python 3 (ipykernel)",
   "language": "python",
   "name": "python3"
  },
  "language_info": {
   "codemirror_mode": {
    "name": "ipython",
    "version": 3
   },
   "file_extension": ".py",
   "mimetype": "text/x-python",
   "name": "python",
   "nbconvert_exporter": "python",
   "pygments_lexer": "ipython3",
   "version": "3.9.7"
  }
 },
 "nbformat": 4,
 "nbformat_minor": 5
}
