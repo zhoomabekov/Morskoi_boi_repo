{
 "cells": [
  {
   "cell_type": "markdown",
   "id": "95155a30",
   "metadata": {},
   "source": [
    "## Логика игры\n",
    "\n",
    "Приветствие и правила игры\n",
    "\n",
    "Показ игровой доски ИИ (все в нулях)\n",
    "\n",
    "Создание рандомных кораблей на доске ИИ\n",
    "\n",
    "Запрос создания кораблей Игрока (показ при каждом размещении кораблей)\n",
    "\n",
    "### Loop:\n",
    "Ход игрока\n",
    "\n",
    "Проверка правильности хода\n",
    "\n",
    "Размещение на доске ИИ и отображение его доски\n",
    "\n",
    "Проверка на ПОБЕДУ\n",
    "\n",
    "Ход ИИ и отображение доски Игрока\n",
    "\n",
    "Проверка на ПОБЕДУ\n"
   ]
  },
  {
   "cell_type": "code",
   "execution_count": 79,
   "id": "25c90594",
   "metadata": {},
   "outputs": [],
   "source": [
    "class BoardOutError(Exception):\n",
    "    def __init__(self,value):\n",
    "        self.value = value\n",
    "    \n",
    "    def __str__(self):\n",
    "        return f\"{self.value} лежит за пределами игрового поля. Введите двузначное число, каждая цифра которого от 1 до 6, включительно.\"\n",
    "\n",
    "class NonEmptyError(Exception):\n",
    "    def __init__(self,value):\n",
    "        self.value = value\n",
    "    \n",
    "    def __str__(self):\n",
    "        return f\"Выбраная ячейка - {self.value} - непустая. Стрелять можно только в пустые ячейки.\""
   ]
  },
  {
   "cell_type": "code",
   "execution_count": 80,
   "id": "91bf5428-f365-444e-af22-c4eec68d2ec6",
   "metadata": {},
   "outputs": [],
   "source": [
    "class Dot:\n",
    "    def __init__(self, row, col):\n",
    "        self.row = row\n",
    "        self.col = col\n",
    "        \n",
    "    def __eq__(self, other):\n",
    "        return self.row == other.row and self.col == other.col\n",
    "    \n",
    "    def rtrn(self):\n",
    "        return(self.row, self.col)\n",
    "\n",
    "user_shots = []\n",
    "PC_shots = []"
   ]
  },
  {
   "cell_type": "code",
   "execution_count": 81,
   "id": "a7423039",
   "metadata": {},
   "outputs": [],
   "source": [
    "grid = [['o' for i in range(6)] for i in range(6)]\n",
    "\n",
    "def print_grid(L):\n",
    "    print(*[\" \", *[i for i in range(1,7)]], sep=' | ')\n",
    "    for i in range(6):\n",
    "        print(i+1, *L[i], sep=' | ')\n",
    "    return"
   ]
  },
  {
   "cell_type": "code",
   "execution_count": 23,
   "id": "8bbd4360-e11d-4be5-bf70-46b2ad425196",
   "metadata": {},
   "outputs": [],
   "source": [
    "# user_shot = int(input(\"В какую ячейку будем стрелять?\"))\n",
    "# row = user_shot // 10\n",
    "# col = user_shot % 10\n",
    "\n",
    "# shot = Dot(row,col)\n",
    "# user_shots.append(shot)\n",
    "# print(user_shots)"
   ]
  },
  {
   "cell_type": "code",
   "execution_count": 85,
   "id": "71209c06-fc2e-403c-b879-322215ff00ca",
   "metadata": {},
   "outputs": [
    {
     "name": "stdout",
     "output_type": "stream",
     "text": [
      "В какую ячейку будем стрелять?22\n",
      "Выбраная ячейка - 22 - непустая. Стрелять можно только в пустые ячейки.\n",
      "В какую ячейку будем стрелять?23\n",
      "Выбраная ячейка - 23 - непустая. Стрелять можно только в пустые ячейки.\n",
      "В какую ячейку будем стрелять?24\n",
      "Выбраная ячейка - 24 - непустая. Стрелять можно только в пустые ячейки.\n",
      "В какую ячейку будем стрелять?25\n",
      "  | 1 | 2 | 3 | 4 | 5 | 6\n",
      "1 | o | o | o | o | o | o\n",
      "2 | o | X | X | X | X | o\n",
      "3 | o | o | o | o | o | o\n",
      "4 | o | o | o | o | o | o\n",
      "5 | o | o | o | o | o | o\n",
      "6 | o | o | o | o | o | o\n",
      "Ход компьютера:\n"
     ]
    }
   ],
   "source": [
    "while True:      #Loop для получения правильного ввода от пользователя\n",
    "    try:\n",
    "        user_shot = int(input(\"В какую ячейку будем стрелять?\"))\n",
    "        row = user_shot // 10\n",
    "        col = user_shot % 10\n",
    "\n",
    "        if row not in range(1,7) or col not in range(1,7):\n",
    "            err = BoardOutError(user_shot)\n",
    "            print(err)\n",
    "\n",
    "        else:\n",
    "            shot = Dot(row,col)\n",
    "            if shot in user_shots:\n",
    "                err = NonEmptyError(user_shot)\n",
    "                print(err)\n",
    "            else:\n",
    "                grid[row-1][col-1] = 'X'\n",
    "                user_shots.append(shot)\n",
    "                print_grid(grid)\n",
    "                print('Ход компьютера:')\n",
    "                break\n",
    "\n",
    "    except Exception:\n",
    "        print('Необходимо ввести двузначное число!')"
   ]
  },
  {
   "cell_type": "code",
   "execution_count": 89,
   "id": "7721bfc4",
   "metadata": {
    "scrolled": true
   },
   "outputs": [
    {
     "name": "stdout",
     "output_type": "stream",
     "text": [
      "0 (2, 2)\n",
      "1 (2, 3)\n",
      "2 (2, 4)\n",
      "3 (2, 5)\n"
     ]
    },
    {
     "data": {
      "text/plain": [
       "True"
      ]
     },
     "execution_count": 89,
     "metadata": {},
     "output_type": "execute_result"
    }
   ],
   "source": [
    "for i in range(len(user_shots)):\n",
    "    print(i, user_shots[i].rtrn())\n",
    "user_shots[2] == user_shots[2]\n"
   ]
  },
  {
   "cell_type": "code",
   "execution_count": 68,
   "id": "123e90c1",
   "metadata": {},
   "outputs": [
    {
     "data": {
      "text/plain": [
       "__main__.NonEmptyError"
      ]
     },
     "execution_count": 68,
     "metadata": {},
     "output_type": "execute_result"
    }
   ],
   "source": [
    "\n"
   ]
  },
  {
   "cell_type": "code",
   "execution_count": 1,
   "id": "a2671657-3895-4f0b-922b-75d8f2841f0b",
   "metadata": {},
   "outputs": [],
   "source": [
    "class Ship:\n",
    "    def __init__(self, a, b=0, c=0):\n",
    "        self.a = a\n",
    "        self.b = b\n",
    "        self.c = c\n",
    "    \n",
    "    # @property\n",
    "    # def correctness(self):\n",
    "    #     if \n",
    "\n",
    "ship_3x_1 = Ship(11)"
   ]
  },
  {
   "cell_type": "code",
   "execution_count": 13,
   "id": "8ae3699d-289e-4d66-8425-82da97b3c105",
   "metadata": {},
   "outputs": [
    {
     "name": "stdout",
     "output_type": "stream",
     "text": [
      "123a\n"
     ]
    }
   ],
   "source": [
    "# Useful codes\n",
    "class Point:\n",
    "    def __init__(self, x = 0, y = 0):\n",
    "        self.__x = x\n",
    "        self.__y = y\n",
    "    \n",
    "    def __checkValue(x):\n",
    "        if isinstance(x, int) or isinstance(x, float):\n",
    "            return True\n",
    "        else:\n",
    "            return False\n",
    "    \n",
    "    def __getCoordX(self):\n",
    "        return self.__x\n",
    "    \n",
    "    def __setCoordX(self, x):\n",
    "        if Point.__checkValue(x):\n",
    "            self.__x = x\n",
    "        else:\n",
    "            raise ValueError('Неверный формат')\n",
    "            \n",
    "    \n",
    "    coordX = property(__getCoordX, __setCoordX)\n",
    "\n",
    "pt = Point(\"123a\", 2)\n",
    "# pt.coordX = 100\n",
    "print(pt.coordX)"
   ]
  },
  {
   "cell_type": "code",
   "execution_count": 15,
   "id": "a8ff9830-349c-43a4-b0fe-8add9ef02e5d",
   "metadata": {},
   "outputs": [
    {
     "name": "stdout",
     "output_type": "stream",
     "text": [
      "Иван Петров, г.Москва\n",
      "Владимир Зайцев, г.Кострома\n",
      "Олеся Янина, г.Новосибирск\n"
     ]
    }
   ],
   "source": [
    "class Customers:\n",
    "    def __init__(self, first_name,second_name,city, balance):\n",
    "        self.first_name = first_name\n",
    "        self.second_name = second_name\n",
    "        self.balance = balance\n",
    "        self.city=city\n",
    "\n",
    "    def __str__(self):\n",
    "        return f'''\"{self.first_name} {self.second_name}\". {self.city}. Баланс: {self.balance} руб.'''\n",
    "\n",
    "    def get_guest(self):\n",
    "        return f'{self.first_name} {self.second_name}, г.{self.city}'\n",
    "\n",
    "\n",
    "costomer_1 = Customers('Иван','Петров','Москва',50)\n",
    "costomer_2 = Customers('Владимир','Зайцев','Кострома',50)\n",
    "costomer_3 = Customers('Олеся','Янина','Новосибирск',50)\n",
    "\n",
    "guest_list=[costomer_1,costomer_2,costomer_3]\n",
    "\n",
    "\n",
    "for guest in guest_list:\n",
    "    print(guest.get_guest())"
   ]
  },
  {
   "cell_type": "code",
   "execution_count": 6,
   "id": "1a16639f-30a7-469f-a2be-f2b6cf8fdcca",
   "metadata": {},
   "outputs": [
    {
     "name": "stdout",
     "output_type": "stream",
     "text": [
      "  | 1 | 2 | 3 | 4 | 5 | 6\n",
      "1 | o | o | o | o | o | o\n",
      "2 | o | o | o | o | o | o\n",
      "3 | o | o | o | o | o | o\n",
      "4 | o | o | o | o | o | o\n",
      "5 | o | o | o | o | X | o\n",
      "6 | o | o | o | o | o | o\n",
      "  | 1 | 2 | 3 | 4 | 5 | 6\n",
      "1 | o | o | o | o | o | o\n",
      "2 | o | o | o | o | o | o\n",
      "3 | o | o | o | o | o | o\n",
      "4 | o | o | o | X | o | o\n",
      "5 | o | o | o | o | X | o\n",
      "6 | o | o | o | o | o | o\n",
      "1248898175808\n",
      "1248898175104\n"
     ]
    }
   ],
   "source": [
    "grid = [['o' for i in range(6)] for i in range(6)]\n",
    "\n",
    "def print_grid(L):\n",
    "    print(*[\" \", *[i for i in range(1,7)]], sep=' | ')\n",
    "    for i in range(6):\n",
    "        print(i+1, *L[i], sep=' | ')\n",
    "    return\n",
    "\n",
    "# print_grid(grid)\n",
    "\n",
    "us_in = 55\n",
    "row = us_in // 10\n",
    "col = us_in % 10\n",
    "grid[row-1][col-1] = \"X\"\n",
    "print_grid(grid)\n",
    "\n",
    "grid_user = grid.copy()\n",
    "grid[3][3] = \"X\"\n",
    "print_grid(grid_user)\n",
    "print(id(grid_user))\n",
    "print(id(grid))"
   ]
  },
  {
   "cell_type": "code",
   "execution_count": null,
   "id": "0f2b63ff-3c43-4127-8300-5eef55f6ae8d",
   "metadata": {},
   "outputs": [],
   "source": [
    "print(user_shots)"
   ]
  },
  {
   "cell_type": "code",
   "execution_count": 74,
   "id": "10bd4a63-96a1-4a6a-b00e-21b0ff4cbdee",
   "metadata": {},
   "outputs": [
    {
     "data": {
      "text/plain": [
       "False"
      ]
     },
     "execution_count": 74,
     "metadata": {},
     "output_type": "execute_result"
    }
   ],
   "source": [
    "user_shots[0] == user_shots[1]"
   ]
  },
  {
   "cell_type": "code",
   "execution_count": null,
   "id": "6a217eb9-ec00-44a8-a32e-5dfd3e9e0761",
   "metadata": {},
   "outputs": [],
   "source": []
  },
  {
   "cell_type": "code",
   "execution_count": null,
   "id": "bd67934f-9965-4a53-bde7-a1ef9da1c6d6",
   "metadata": {},
   "outputs": [],
   "source": []
  }
 ],
 "metadata": {
  "kernelspec": {
   "display_name": "Python 3 (ipykernel)",
   "language": "python",
   "name": "python3"
  },
  "language_info": {
   "codemirror_mode": {
    "name": "ipython",
    "version": 3
   },
   "file_extension": ".py",
   "mimetype": "text/x-python",
   "name": "python",
   "nbconvert_exporter": "python",
   "pygments_lexer": "ipython3",
   "version": "3.9.7"
  }
 },
 "nbformat": 4,
 "nbformat_minor": 5
}
