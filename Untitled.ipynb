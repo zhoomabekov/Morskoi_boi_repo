{
 "cells": [
  {
   "cell_type": "code",
   "execution_count": 12,
   "id": "6187a3e4-1cf6-4bb7-bf87-9e8914fd33d8",
   "metadata": {},
   "outputs": [],
   "source": [
    "class Test:\n",
    "    c_var = []\n",
    "    \n",
    "    def __init__(self, i_var):\n",
    "        self.i_var = i_var\n",
    "        # self.c_var = 155"
   ]
  },
  {
   "cell_type": "code",
   "execution_count": 13,
   "id": "fe30ecf7-1af0-4527-978c-298931dd295a",
   "metadata": {},
   "outputs": [],
   "source": [
    "test = Test(10)"
   ]
  },
  {
   "cell_type": "code",
   "execution_count": 34,
   "id": "f3e9445e-c747-4341-8ee0-662dcbdedb62",
   "metadata": {},
   "outputs": [
    {
     "name": "stdout",
     "output_type": "stream",
     "text": [
      "1816653536320\n",
      "1816652749824\n"
     ]
    }
   ],
   "source": [
    "test.c_var = [2]\n",
    "print(id(test.c_var))\n",
    "\n",
    "test.c_var = [3]\n",
    "print(id(test.c_var))"
   ]
  }
 ],
 "metadata": {
  "kernelspec": {
   "display_name": "Python 3 (ipykernel)",
   "language": "python",
   "name": "python3"
  },
  "language_info": {
   "codemirror_mode": {
    "name": "ipython",
    "version": 3
   },
   "file_extension": ".py",
   "mimetype": "text/x-python",
   "name": "python",
   "nbconvert_exporter": "python",
   "pygments_lexer": "ipython3",
   "version": "3.8.10"
  }
 },
 "nbformat": 4,
 "nbformat_minor": 5
}
