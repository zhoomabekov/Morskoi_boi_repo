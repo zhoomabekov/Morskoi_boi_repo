{
 "cells": [
  {
   "cell_type": "code",
   "execution_count": 10,
   "id": "6187a3e4-1cf6-4bb7-bf87-9e8914fd33d8",
   "metadata": {},
   "outputs": [],
   "source": [
    "class Square:\n",
    "    def __init__(self, a):\n",
    "        self.a = a\n",
    "        NonPositiveDigitException = Exception(ValueError)\n",
    "        \n",
    "        if a == 0:\n",
    "            raise NonPositiveDigitException('Не может быть нулем \n",
    "    "
   ]
  },
  {
   "cell_type": "code",
   "execution_count": 12,
   "id": "fe30ecf7-1af0-4527-978c-298931dd295a",
   "metadata": {},
   "outputs": [
    {
     "ename": "Exception",
     "evalue": "<class 'ValueError'>",
     "output_type": "error",
     "traceback": [
      "\u001b[1;31m---------------------------------------------------------------------------\u001b[0m",
      "\u001b[1;31mException\u001b[0m                                 Traceback (most recent call last)",
      "Cell \u001b[1;32mIn [12], line 1\u001b[0m\n\u001b[1;32m----> 1\u001b[0m s \u001b[38;5;241m=\u001b[39m \u001b[43mSquare\u001b[49m\u001b[43m(\u001b[49m\u001b[38;5;241;43m0\u001b[39;49m\u001b[43m)\u001b[49m\n",
      "Cell \u001b[1;32mIn [10], line 7\u001b[0m, in \u001b[0;36mSquare.__init__\u001b[1;34m(self, a)\u001b[0m\n\u001b[0;32m      4\u001b[0m NonPositiveDigitException \u001b[38;5;241m=\u001b[39m \u001b[38;5;167;01mException\u001b[39;00m(\u001b[38;5;167;01mValueError\u001b[39;00m)\n\u001b[0;32m      6\u001b[0m \u001b[38;5;28;01mif\u001b[39;00m a \u001b[38;5;241m==\u001b[39m \u001b[38;5;241m0\u001b[39m:\n\u001b[1;32m----> 7\u001b[0m     \u001b[38;5;28;01mraise\u001b[39;00m NonPositiveDigitException\n",
      "\u001b[1;31mException\u001b[0m: <class 'ValueError'>"
     ]
    }
   ],
   "source": [
    "s = Square(0)\n"
   ]
  },
  {
   "cell_type": "code",
   "execution_count": null,
   "id": "f3e9445e-c747-4341-8ee0-662dcbdedb62",
   "metadata": {},
   "outputs": [],
   "source": []
  }
 ],
 "metadata": {
  "kernelspec": {
   "display_name": "Python 3 (ipykernel)",
   "language": "python",
   "name": "python3"
  },
  "language_info": {
   "codemirror_mode": {
    "name": "ipython",
    "version": 3
   },
   "file_extension": ".py",
   "mimetype": "text/x-python",
   "name": "python",
   "nbconvert_exporter": "python",
   "pygments_lexer": "ipython3",
   "version": "3.8.10"
  }
 },
 "nbformat": 4,
 "nbformat_minor": 5
}
