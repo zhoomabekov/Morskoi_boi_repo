{
 "cells": [
  {
   "cell_type": "markdown",
   "id": "95155a30",
   "metadata": {
    "tags": []
   },
   "source": [
    "## Логика игры\n",
    "\n",
    "Приветствие и правила игры\n",
    "\n",
    "Показ игровой доски ИИ (все в нулях)\n",
    "\n",
    "Создание рандомных кораблей на доске ИИ\n",
    "\n",
    "Запрос создания кораблей Игрока (показ при каждом размещении кораблей)\n",
    "\n",
    "### Loop:\n",
    "Ход игрока\n",
    "\n",
    "Проверка правильности хода\n",
    "\n",
    "Размещение на доске ИИ и отображение его доски\n",
    "\n",
    "Проверка на ПОБЕДУ\n",
    "\n",
    "Ход ИИ и отображение доски Игрока\n",
    "\n",
    "Проверка на ПОБЕДУ\n"
   ]
  },
  {
   "cell_type": "markdown",
   "id": "0fc48a86",
   "metadata": {},
   "source": [
    "# ...Error Classes"
   ]
  },
  {
   "cell_type": "code",
   "execution_count": 76,
   "id": "25c90594",
   "metadata": {},
   "outputs": [],
   "source": [
    "class BoardOutError(Exception):\n",
    "    def __init__(self,value):\n",
    "        self.value = value\n",
    "    \n",
    "    def __str__(self):\n",
    "        return f\"{self.value} лежит за пределами игрового поля. Введите двузначное число, каждая цифра которого от 1 до 6, включительно.\"\n",
    "\n",
    "class NonEmptyError(Exception):\n",
    "    def __init__(self,value):\n",
    "        self.value = value\n",
    "    \n",
    "    def __str__(self):\n",
    "        return f\"Выбраная ячейка - {self.value} - непустая. Стрелять можно только в пустые ячейки.\"\n",
    "\n",
    "class ShipLocationError(Exception):\n",
    "    def __init__(self,length, front, direction):\n",
    "        self.length = length\n",
    "        self.front = front\n",
    "        self.direction = direction\n",
    "    \n",
    "    def __str__(self):\n",
    "        self.front = (self.front[0] + 1, self.front[1] + 1)\n",
    "        direction_word = {\n",
    "            1: 'Вправо',\n",
    "            2: 'Вниз'\n",
    "        }\n",
    "        return f\"Указанные параметры - длина ({self.length}), положение носа корабля {self.front} и направление ({direction_word[self.direction]}) не позволяют корректно разместить корабль на игровом поле.\"\n",
    "    "
   ]
  },
  {
   "cell_type": "markdown",
   "id": "bb9b629e",
   "metadata": {},
   "source": [
    "# ...Board, Ship, Dot Classes"
   ]
  },
  {
   "cell_type": "code",
   "execution_count": 77,
   "id": "91bf5428-f365-444e-af22-c4eec68d2ec6",
   "metadata": {},
   "outputs": [],
   "source": [
    "class Dot:\n",
    "    def __init__(self, row, col):\n",
    "        self.row = row\n",
    "        self.col = col\n",
    "        \n",
    "    def __eq__(self, other):\n",
    "        return self.row == other.row and self.col == other.col\n",
    "    \n",
    "    @property\n",
    "    def show(self):\n",
    "        return(self.row, self.col)"
   ]
  },
  {
   "cell_type": "code",
   "execution_count": 78,
   "id": "a7423039",
   "metadata": {},
   "outputs": [],
   "source": [
    "grid = [['o' for i in range(6)] for i in range(6)]\n",
    "\n",
    "def print_grid(L):\n",
    "    print(*[\" \", *[i for i in range(1,7)]], sep=' | ')\n",
    "    for i in range(6):\n",
    "        print(i+1, *L[i], sep=' | ')\n",
    "    return"
   ]
  },
  {
   "cell_type": "code",
   "execution_count": 99,
   "id": "b4f77499-680a-49e9-83d2-f32843ebfbcb",
   "metadata": {},
   "outputs": [],
   "source": [
    "class Ship:\n",
    "    def __init__(self, length, front, direction, life):\n",
    "        self.length = length\n",
    "        self.front = front\n",
    "        self.direction = direction\n",
    "        self.life = life\n",
    "    \n",
    "    def dots(self):\n",
    "        ship_cells = []\n",
    "        direction_vector = {\n",
    "            1:  (0, 1),\n",
    "            2:  (1, 0)\n",
    "        }\n",
    "                \n",
    "        for i in range(self.length):\n",
    "            cell = (self.front[0] + direction_vector[self.direction][0]*(i), \\\n",
    "                    self.front[1] + direction_vector[self.direction][1]*(i))\n",
    "            ship_cells.append(cell)\n",
    "        return ship_cells\n"
   ]
  },
  {
   "cell_type": "code",
   "execution_count": 100,
   "id": "573ff351",
   "metadata": {
    "scrolled": true
   },
   "outputs": [
    {
     "data": {
      "text/plain": [
       "[(0, 2), (0, 3), (0, 4)]"
      ]
     },
     "execution_count": 100,
     "metadata": {},
     "output_type": "execute_result"
    }
   ],
   "source": [
    "ship_1 = Ship(3,(0,2),1,3)\n",
    "ship_1.dots()\n",
    "\n"
   ]
  },
  {
   "cell_type": "code",
   "execution_count": 100,
   "id": "c3065f13",
   "metadata": {},
   "outputs": [
    {
     "name": "stdout",
     "output_type": "stream",
     "text": [
      "{(1, 3), (1, 4)}\n"
     ]
    }
   ],
   "source": [
    "a = [(1, 3), (1, 4), (1, 3), (1, 4)]\n",
    "print(set(a))\n"
   ]
  },
  {
   "cell_type": "code",
   "execution_count": 206,
   "id": "e4031011",
   "metadata": {
    "scrolled": false
   },
   "outputs": [],
   "source": [
    "class Board:\n",
    "    POSSIBLE_CELLS = []\n",
    "    for i in range(6):\n",
    "        for j in range(6):\n",
    "            POSSIBLE_CELLS.append((i,j))\n",
    "#     print(POSSIBLE_CELLS)\n",
    "    \n",
    "    player_shots_left = []\n",
    "    for i in POSSIBLE_CELLS:\n",
    "        player_shots_left.append(Dot(*i))\n",
    "#     print(len(player_shots_left))\n",
    "    \n",
    "    \n",
    "    start_cells_conditions = [['o' for i in range(6)] for i in range(6)]\n",
    "       \n",
    "    __s = u'\\u220E'     #код квадрата в системе unicode \n",
    "    \n",
    "    def __init__(self, hid, cells_conditions = start_cells_conditions, ships = [], alive_ships = 7):\n",
    "        self.cells_conditions = cells_conditions    # list\n",
    "        self.ships = ships                          # list with all ships\n",
    "        self.hid = hid                              # bool\n",
    "        self.alive_ships = alive_ships              # int\n",
    "\n",
    "        \n",
    "    def add_ship(self, ship):      #ставит корабль на доску (если ставить не получается, выбрасываем исключения)       \n",
    "        for i in range(len(ship.dots())):\n",
    "            if ship.dots()[i] in self.contoured_ships():\n",
    "                raise ShipLocationError(ship.length, ship.front, ship.direction)\n",
    "        self.ships.append(ship.dots())\n",
    "        print(f'ships = {self.ships}')\n",
    "            \n",
    "    \n",
    "    def contoured_ships(self):      # точки всех кораблей + их контуров\n",
    "        \n",
    "        existing_ships_dots = []\n",
    "        for i in range(len(self.ships)):\n",
    "            existing_ships_dots += self.ships[i]\n",
    "        \n",
    "        contoured_ships_dots = []\n",
    "        for dot in range(len(existing_ships_dots)):\n",
    "            for i in [-1, 0, 1]:\n",
    "                for j in [-1, 0, 1]:\n",
    "                    tested_dot = (existing_ships_dots[dot][0] + i, existing_ships_dots[dot][1] + j)\n",
    "                    if tested_dot in self.POSSIBLE_CELLS:\n",
    "                        contoured_ships_dots.append(tested_dot)\n",
    "        return list(set(contoured_ships_dots))\n",
    "                \n",
    "        \n",
    "    def show_board(self):      #выводит доску в консоль в зависимости от параметра hid.\n",
    "        ships_gui = self.start_cells_conditions.copy()\n",
    "        \n",
    "        existing_ships_dots = []\n",
    "        for i in range(len(self.ships)):\n",
    "            existing_ships_dots += self.ships[i]\n",
    "        \n",
    "        for i in existing_ships_dots:\n",
    "            ships_gui[i[0]][i[1]] = self.__s\n",
    "        \n",
    "        if not hid:\n",
    "            return self.gui_print(ships_gui)\n",
    "    \n",
    "    def out(self, dot):      #для точки (объекта класса Dot) возвращает True, если точка выходит за пределы поля\n",
    "        print(111)\n",
    "        if dot in self.POSSIBLE_CELLS:\n",
    "            return False\n",
    "        else:\n",
    "            return True\n",
    "    \n",
    "    def shot(self):         #делает выстрел по доске (если есть попытка выстрелить за \\\n",
    "                            #пределы и в использованную точку, нужно выбрасывать исключения\n",
    "        while True:         #Loop для получения правильного ввода от Игрока\n",
    "\n",
    "            try:\n",
    "                player_shot = int(input(\"В какую ячейку будем стрелять?\"))\n",
    "                row = player_shot // 10 - 1\n",
    "                col = player_shot % 10 - 1\n",
    "            except Exception:\n",
    "                print('Необходимо ввести двузначное число!')\n",
    "                break\n",
    "            \n",
    "            if self.out((row, col)):\n",
    "                raise BoardOutError(player_shot)\n",
    "            else:\n",
    "                shot = Dot(row, col)\n",
    "\n",
    "                if shot not in self.player_shots_left:\n",
    "                    err = NonEmptyError(player_shot)\n",
    "                    print(err)\n",
    "                else:\n",
    "                    existing_ships_dots = []\n",
    "                    for i in range(len(self.ships)):\n",
    "                        existing_ships_dots += self.ships[i]\n",
    "                    if (row, col) in existing_ships_dots:\n",
    "                        self.cells_conditions[row][col] = 'X'\n",
    "                        self.player_shots_left.remove(Dot(row,col))\n",
    "                        print(self.cells_conditions)    \n",
    "                    else:\n",
    "\n",
    "                        self.cells_conditions[row][col] = 'T'\n",
    "                        self.player_shots_left.remove(Dot(row,col))\n",
    "                        print(self.cells_conditions)\n",
    "                    print('Ход компьютера:')\n",
    "                    break\n",
    "\n",
    "            \n",
    "    def gui_print(self, L):\n",
    "        print(*[\" \", *[i for i in range(1,7)]], sep=' | ')\n",
    "        for i in range(6):\n",
    "            print(i+1, *L[i], sep=' | ')\n",
    "        return"
   ]
  },
  {
   "cell_type": "code",
   "execution_count": null,
   "id": "1219c056",
   "metadata": {},
   "outputs": [],
   "source": []
  },
  {
   "cell_type": "code",
   "execution_count": 208,
   "id": "5473033b",
   "metadata": {
    "scrolled": true
   },
   "outputs": [
    {
     "name": "stdout",
     "output_type": "stream",
     "text": [
      "ships = [[(0, 0)], [(2, 2), (2, 3)], [(4, 0), (4, 1), (4, 2)], [(0, 2), (0, 3), (0, 4)]]\n",
      "29\n",
      "В какую ячейку будем стрелять?11\n",
      "111\n",
      "Выбраная ячейка - 11 - непустая. Стрелять можно только в пустые ячейки.\n",
      "В какую ячейку будем стрелять?12\n",
      "111\n"
     ]
    },
    {
     "ename": "IndexError",
     "evalue": "list index out of range",
     "output_type": "error",
     "traceback": [
      "\u001b[1;31m---------------------------------------------------------------------------\u001b[0m",
      "\u001b[1;31mIndexError\u001b[0m                                Traceback (most recent call last)",
      "\u001b[1;32mC:\\Users\\GALYM~1.ZHU\\AppData\\Local\\Temp/ipykernel_14848/2022214575.py\u001b[0m in \u001b[0;36m<module>\u001b[1;34m\u001b[0m\n\u001b[0;32m     11\u001b[0m \u001b[0mprint\u001b[0m\u001b[1;33m(\u001b[0m\u001b[0mlen\u001b[0m\u001b[1;33m(\u001b[0m\u001b[0mAI_board\u001b[0m\u001b[1;33m.\u001b[0m\u001b[0mcontoured_ships\u001b[0m\u001b[1;33m(\u001b[0m\u001b[1;33m)\u001b[0m\u001b[1;33m)\u001b[0m\u001b[1;33m)\u001b[0m\u001b[1;33m\u001b[0m\u001b[1;33m\u001b[0m\u001b[0m\n\u001b[0;32m     12\u001b[0m \u001b[1;33m\u001b[0m\u001b[0m\n\u001b[1;32m---> 13\u001b[1;33m \u001b[0mAI_board\u001b[0m\u001b[1;33m.\u001b[0m\u001b[0mshot\u001b[0m\u001b[1;33m(\u001b[0m\u001b[1;33m)\u001b[0m\u001b[1;33m\u001b[0m\u001b[1;33m\u001b[0m\u001b[0m\n\u001b[0m",
      "\u001b[1;32mC:\\Users\\GALYM~1.ZHU\\AppData\\Local\\Temp/ipykernel_14848/2081330406.py\u001b[0m in \u001b[0;36mshot\u001b[1;34m(self)\u001b[0m\n\u001b[0;32m     89\u001b[0m                     \u001b[0mprint\u001b[0m\u001b[1;33m(\u001b[0m\u001b[0merr\u001b[0m\u001b[1;33m)\u001b[0m\u001b[1;33m\u001b[0m\u001b[1;33m\u001b[0m\u001b[0m\n\u001b[0;32m     90\u001b[0m                 \u001b[1;32melse\u001b[0m\u001b[1;33m:\u001b[0m\u001b[1;33m\u001b[0m\u001b[1;33m\u001b[0m\u001b[0m\n\u001b[1;32m---> 91\u001b[1;33m                     \u001b[1;32mif\u001b[0m \u001b[0mself\u001b[0m\u001b[1;33m.\u001b[0m\u001b[0mships\u001b[0m\u001b[1;33m[\u001b[0m\u001b[0mrow\u001b[0m\u001b[1;33m]\u001b[0m\u001b[1;33m[\u001b[0m\u001b[0mcol\u001b[0m\u001b[1;33m]\u001b[0m \u001b[1;33m==\u001b[0m \u001b[1;34m'o'\u001b[0m\u001b[1;33m:\u001b[0m\u001b[1;33m\u001b[0m\u001b[1;33m\u001b[0m\u001b[0m\n\u001b[0m\u001b[0;32m     92\u001b[0m                         \u001b[0mself\u001b[0m\u001b[1;33m.\u001b[0m\u001b[0mcells_conditions\u001b[0m\u001b[1;33m[\u001b[0m\u001b[0mrow\u001b[0m\u001b[1;33m]\u001b[0m\u001b[1;33m[\u001b[0m\u001b[0mcol\u001b[0m\u001b[1;33m]\u001b[0m \u001b[1;33m=\u001b[0m \u001b[1;34m'T'\u001b[0m\u001b[1;33m\u001b[0m\u001b[1;33m\u001b[0m\u001b[0m\n\u001b[0;32m     93\u001b[0m                         \u001b[0mself\u001b[0m\u001b[1;33m.\u001b[0m\u001b[0mplayer_shots_left\u001b[0m\u001b[1;33m.\u001b[0m\u001b[0mremove\u001b[0m\u001b[1;33m(\u001b[0m\u001b[0mDot\u001b[0m\u001b[1;33m(\u001b[0m\u001b[0mrow\u001b[0m\u001b[1;33m,\u001b[0m\u001b[0mcol\u001b[0m\u001b[1;33m)\u001b[0m\u001b[1;33m)\u001b[0m\u001b[1;33m\u001b[0m\u001b[1;33m\u001b[0m\u001b[0m\n",
      "\u001b[1;31mIndexError\u001b[0m: list index out of range"
     ]
    }
   ],
   "source": [
    "player = 'Player'\n",
    "hid = True if player == 'AI' else False\n",
    "\n",
    "ships = [[(0,0)],\n",
    "         [(2,2),(2,3)],\n",
    "         [(4,0),(4,1),(4,2)]\n",
    "        ]\n",
    "# ships = []\n",
    "AI_board = Board(hid, ships = ships)\n",
    "AI_board.add_ship(ship_1)\n",
    "print(len(AI_board.contoured_ships()))\n",
    "\n",
    "AI_board.shot()"
   ]
  },
  {
   "cell_type": "code",
   "execution_count": 184,
   "id": "97a23d4d",
   "metadata": {},
   "outputs": [
    {
     "name": "stdout",
     "output_type": "stream",
     "text": [
      "  | 1 | 2 | 3 | 4 | 5 | 6\n",
      "1 | ∎ | o | ∎ | ∎ | ∎ | o\n",
      "2 | o | o | o | o | o | o\n",
      "3 | o | o | ∎ | ∎ | o | o\n",
      "4 | o | o | o | o | o | o\n",
      "5 | ∎ | ∎ | ∎ | o | o | o\n",
      "6 | o | o | o | o | o | o\n"
     ]
    }
   ],
   "source": [
    "AI_board.show_board()"
   ]
  },
  {
   "cell_type": "code",
   "execution_count": 188,
   "id": "df098a6f",
   "metadata": {},
   "outputs": [
    {
     "name": "stdout",
     "output_type": "stream",
     "text": [
      "В какую ячейку будем стрелять?12\n",
      "Необходимо ввести двузначное число!\n",
      "В какую ячейку будем стрелять?13\n",
      "Необходимо ввести двузначное число!\n"
     ]
    },
    {
     "ename": "KeyboardInterrupt",
     "evalue": "Interrupted by user",
     "output_type": "error",
     "traceback": [
      "\u001b[1;31m---------------------------------------------------------------------------\u001b[0m",
      "\u001b[1;31mKeyboardInterrupt\u001b[0m                         Traceback (most recent call last)",
      "\u001b[1;32mC:\\Users\\GALYM~1.ZHU\\AppData\\Local\\Temp/ipykernel_14848/4288661061.py\u001b[0m in \u001b[0;36m<module>\u001b[1;34m\u001b[0m\n\u001b[1;32m----> 1\u001b[1;33m \u001b[0mAI_board\u001b[0m\u001b[1;33m.\u001b[0m\u001b[0mshot\u001b[0m\u001b[1;33m(\u001b[0m\u001b[1;33m)\u001b[0m\u001b[1;33m\u001b[0m\u001b[1;33m\u001b[0m\u001b[0m\n\u001b[0m\u001b[0;32m      2\u001b[0m \u001b[0mprint\u001b[0m\u001b[1;33m(\u001b[0m\u001b[0mlen\u001b[0m\u001b[1;33m(\u001b[0m\u001b[0mAI_board\u001b[0m\u001b[1;33m.\u001b[0m\u001b[0mplayer_shots_left\u001b[0m\u001b[1;33m)\u001b[0m\u001b[1;33m)\u001b[0m\u001b[1;33m\u001b[0m\u001b[1;33m\u001b[0m\u001b[0m\n",
      "\u001b[1;32mC:\\Users\\GALYM~1.ZHU\\AppData\\Local\\Temp/ipykernel_14848/252969269.py\u001b[0m in \u001b[0;36mshot\u001b[1;34m(self)\u001b[0m\n\u001b[0;32m     71\u001b[0m         \u001b[1;32mwhile\u001b[0m \u001b[1;32mTrue\u001b[0m\u001b[1;33m:\u001b[0m         \u001b[1;31m#Loop для получения правильного ввода от Игрока\u001b[0m\u001b[1;33m\u001b[0m\u001b[1;33m\u001b[0m\u001b[0m\n\u001b[0;32m     72\u001b[0m             \u001b[1;32mtry\u001b[0m\u001b[1;33m:\u001b[0m\u001b[1;33m\u001b[0m\u001b[1;33m\u001b[0m\u001b[0m\n\u001b[1;32m---> 73\u001b[1;33m                 \u001b[0mplayer_shot\u001b[0m \u001b[1;33m=\u001b[0m \u001b[0mint\u001b[0m\u001b[1;33m(\u001b[0m\u001b[0minput\u001b[0m\u001b[1;33m(\u001b[0m\u001b[1;34m\"В какую ячейку будем стрелять?\"\u001b[0m\u001b[1;33m)\u001b[0m\u001b[1;33m)\u001b[0m\u001b[1;33m\u001b[0m\u001b[1;33m\u001b[0m\u001b[0m\n\u001b[0m\u001b[0;32m     74\u001b[0m                 \u001b[0mrow\u001b[0m \u001b[1;33m=\u001b[0m \u001b[0mplayer_shot\u001b[0m \u001b[1;33m//\u001b[0m \u001b[1;36m10\u001b[0m \u001b[1;33m-\u001b[0m \u001b[1;36m1\u001b[0m\u001b[1;33m\u001b[0m\u001b[1;33m\u001b[0m\u001b[0m\n\u001b[0;32m     75\u001b[0m                 \u001b[0mcol\u001b[0m \u001b[1;33m=\u001b[0m \u001b[0mplayer_shot\u001b[0m \u001b[1;33m%\u001b[0m \u001b[1;36m10\u001b[0m \u001b[1;33m-\u001b[0m \u001b[1;36m1\u001b[0m\u001b[1;33m\u001b[0m\u001b[1;33m\u001b[0m\u001b[0m\n",
      "\u001b[1;32m~\\Anaconda3\\lib\\site-packages\\ipykernel\\kernelbase.py\u001b[0m in \u001b[0;36mraw_input\u001b[1;34m(self, prompt)\u001b[0m\n\u001b[0;32m   1004\u001b[0m                 \u001b[1;34m\"raw_input was called, but this frontend does not support input requests.\"\u001b[0m\u001b[1;33m\u001b[0m\u001b[1;33m\u001b[0m\u001b[0m\n\u001b[0;32m   1005\u001b[0m             )\n\u001b[1;32m-> 1006\u001b[1;33m         return self._input_request(\n\u001b[0m\u001b[0;32m   1007\u001b[0m             \u001b[0mstr\u001b[0m\u001b[1;33m(\u001b[0m\u001b[0mprompt\u001b[0m\u001b[1;33m)\u001b[0m\u001b[1;33m,\u001b[0m\u001b[1;33m\u001b[0m\u001b[1;33m\u001b[0m\u001b[0m\n\u001b[0;32m   1008\u001b[0m             \u001b[0mself\u001b[0m\u001b[1;33m.\u001b[0m\u001b[0m_parent_ident\u001b[0m\u001b[1;33m[\u001b[0m\u001b[1;34m\"shell\"\u001b[0m\u001b[1;33m]\u001b[0m\u001b[1;33m,\u001b[0m\u001b[1;33m\u001b[0m\u001b[1;33m\u001b[0m\u001b[0m\n",
      "\u001b[1;32m~\\Anaconda3\\lib\\site-packages\\ipykernel\\kernelbase.py\u001b[0m in \u001b[0;36m_input_request\u001b[1;34m(self, prompt, ident, parent, password)\u001b[0m\n\u001b[0;32m   1049\u001b[0m             \u001b[1;32mexcept\u001b[0m \u001b[0mKeyboardInterrupt\u001b[0m\u001b[1;33m:\u001b[0m\u001b[1;33m\u001b[0m\u001b[1;33m\u001b[0m\u001b[0m\n\u001b[0;32m   1050\u001b[0m                 \u001b[1;31m# re-raise KeyboardInterrupt, to truncate traceback\u001b[0m\u001b[1;33m\u001b[0m\u001b[1;33m\u001b[0m\u001b[0m\n\u001b[1;32m-> 1051\u001b[1;33m                 \u001b[1;32mraise\u001b[0m \u001b[0mKeyboardInterrupt\u001b[0m\u001b[1;33m(\u001b[0m\u001b[1;34m\"Interrupted by user\"\u001b[0m\u001b[1;33m)\u001b[0m \u001b[1;32mfrom\u001b[0m \u001b[1;32mNone\u001b[0m\u001b[1;33m\u001b[0m\u001b[1;33m\u001b[0m\u001b[0m\n\u001b[0m\u001b[0;32m   1052\u001b[0m             \u001b[1;32mexcept\u001b[0m \u001b[0mException\u001b[0m\u001b[1;33m:\u001b[0m\u001b[1;33m\u001b[0m\u001b[1;33m\u001b[0m\u001b[0m\n\u001b[0;32m   1053\u001b[0m                 \u001b[0mself\u001b[0m\u001b[1;33m.\u001b[0m\u001b[0mlog\u001b[0m\u001b[1;33m.\u001b[0m\u001b[0mwarning\u001b[0m\u001b[1;33m(\u001b[0m\u001b[1;34m\"Invalid Message:\"\u001b[0m\u001b[1;33m,\u001b[0m \u001b[0mexc_info\u001b[0m\u001b[1;33m=\u001b[0m\u001b[1;32mTrue\u001b[0m\u001b[1;33m)\u001b[0m\u001b[1;33m\u001b[0m\u001b[1;33m\u001b[0m\u001b[0m\n",
      "\u001b[1;31mKeyboardInterrupt\u001b[0m: Interrupted by user"
     ]
    }
   ],
   "source": [
    "AI_board.shot()\n",
    "print(len(AI_board.player_shots_left))"
   ]
  },
  {
   "cell_type": "code",
   "execution_count": 104,
   "id": "0200321b",
   "metadata": {
    "scrolled": false
   },
   "outputs": [
    {
     "name": "stdout",
     "output_type": "stream",
     "text": [
      "ships = [[(0, 2), (0, 3), (0, 4)], [(3, 5), (4, 5)]]\n"
     ]
    }
   ],
   "source": [
    "ship_2 = Ship(2,(3,5),2,2)\n",
    "ship_2.dots()\n",
    "\n",
    "AI_board.add_ship(ship_2)"
   ]
  },
  {
   "cell_type": "code",
   "execution_count": 128,
   "id": "568b3eec",
   "metadata": {},
   "outputs": [
    {
     "name": "stdout",
     "output_type": "stream",
     "text": [
      "[['o', 'o', 'o', 'o', 'o', 'o'], ['o', 'o', 'o', 'o', 'o', 'o'], ['o', 'o', 'o', 'o', 'o', 'o'], ['o', 'o', 'o', 'o', 'o', 'o'], ['o', 'o', 'o', 'o', 'o', 'o'], ['o', 'o', 'o', 'o', 'o', 'o']]\n"
     ]
    }
   ],
   "source": [
    "start_cells_conditions = [['o' for i in range(6)] for i in range(6)]\n",
    "print(start_cells_conditions)"
   ]
  },
  {
   "cell_type": "code",
   "execution_count": null,
   "id": "e9cdb50a-5a64-4020-8660-9d0677da7186",
   "metadata": {},
   "outputs": [],
   "source": [
    "ship_1 = Ship(3,(2,2),(0,1),3)\n",
    "print(ship_1)\n",
    "ship_1_cells = ship_1.dots()\n",
    "print(ship_1_cells)\n",
    "\n",
    "for i in range(len(ship_1_cells)):\n",
    "    row = ship_1_cells[i][0]\n",
    "    col = ship_1_cells[i][1]\n",
    "    print(row, col)\n",
    "    \n",
    "    grid[row-1][col-1] = \"X\"\n",
    "\n",
    "print_grid(grid)"
   ]
  },
  {
   "cell_type": "code",
   "execution_count": 42,
   "id": "d20ddad9",
   "metadata": {},
   "outputs": [
    {
     "name": "stdout",
     "output_type": "stream",
     "text": [
      "[(0, 0), (0, 1), (0, 2), (0, 3), (0, 4), (0, 5), (1, 0), (1, 1), (1, 2), (1, 3), (1, 4), (1, 5), (2, 0), (2, 1), (2, 2), (2, 3), (2, 4), (2, 5), (3, 2), (3, 3), (3, 4), (3, 5), (4, 0), (4, 1), (4, 2), (4, 3), (4, 4), (4, 5), (5, 0), (5, 1), (5, 2), (5, 3), (5, 4)]\n"
     ]
    }
   ],
   "source": [
    "print(sorted(AI_board.contoured_ships()))"
   ]
  },
  {
   "cell_type": "code",
   "execution_count": null,
   "id": "71209c06-fc2e-403c-b879-322215ff00ca",
   "metadata": {},
   "outputs": [],
   "source": [
    "while True:      #Loop для получения правильного ввода от Игрока\n",
    "    try:\n",
    "        user_shot = int(input(\"В какую ячейку будем стрелять?\"))\n",
    "        row = user_shot // 10\n",
    "        col = user_shot % 10\n",
    "\n",
    "        if row not in range(1,7) or col not in range(1,7):\n",
    "            err = BoardOutError(user_shot)\n",
    "            print(err)\n",
    "\n",
    "        else:\n",
    "            shot = Dot(row,col)\n",
    "            if shot in user_shots:\n",
    "                err = NonEmptyError(user_shot)\n",
    "                print(err)\n",
    "            else:\n",
    "                grid[row-1][col-1] = 'X'\n",
    "                user_shots.append(shot)\n",
    "                print_grid(grid)\n",
    "                print('Ход компьютера:')\n",
    "                break\n",
    "\n",
    "    except Exception:\n",
    "        print('Необходимо ввести двузначное число!')"
   ]
  },
  {
   "cell_type": "code",
   "execution_count": null,
   "id": "7721bfc4",
   "metadata": {
    "scrolled": true
   },
   "outputs": [],
   "source": [
    "for i in range(len(user_shots)):\n",
    "    print(i, user_shots[i].rtrn())\n",
    "user_shots[2] == user_shots[2]\n"
   ]
  },
  {
   "cell_type": "code",
   "execution_count": null,
   "id": "123e90c1",
   "metadata": {},
   "outputs": [],
   "source": [
    "# from random import randint\n",
    "\n",
    "# while True:\n",
    "#     row, col = randint(1,6),randint(1,6)\n",
    "#     print(row,col)\n",
    "#     shot = Dot(row, col)\n",
    "#     if shot not in PC_shots:\n",
    "#         grid[row-1][col-1] = 'X'\n",
    "#         PC_shots.append(shot)\n",
    "#         print_grid(grid)\n",
    "#         break\n",
    "\n",
    "unused_shots = []\n",
    "for i in range(6):\n",
    "    for j in range(6):\n",
    "        unused_shots.append((i,j))\n",
    "                               \n",
    "                               \n",
    "print(unused_shots[randint(1,len(unused_shots))])\n"
   ]
  },
  {
   "cell_type": "code",
   "execution_count": null,
   "id": "a2671657-3895-4f0b-922b-75d8f2841f0b",
   "metadata": {},
   "outputs": [],
   "source": [
    "s = u'\\u220E'     #код квадрата в системе unicode \n"
   ]
  },
  {
   "cell_type": "code",
   "execution_count": 110,
   "id": "8ae3699d-289e-4d66-8425-82da97b3c105",
   "metadata": {},
   "outputs": [],
   "source": [
    "class Test:\n",
    "    a = []\n",
    "    __hid = 123\n",
    "    def __init__(self, c):\n",
    "        self.c = c\n",
    "    \n",
    "    def change_a(self, aa):\n",
    "        self.a.append(aa*self.__hid)\n",
    "        return(self.a)\n"
   ]
  },
  {
   "cell_type": "code",
   "execution_count": 113,
   "id": "f3cdda38",
   "metadata": {},
   "outputs": [
    {
     "name": "stdout",
     "output_type": "stream",
     "text": [
      "[615, 1230]\n"
     ]
    }
   ],
   "source": [
    "test = Test(10)\n",
    "print(test.change_a(10))"
   ]
  },
  {
   "cell_type": "code",
   "execution_count": 47,
   "id": "0b7b08ad",
   "metadata": {},
   "outputs": [
    {
     "data": {
      "text/plain": [
       "[246, 246, 246]"
      ]
     },
     "execution_count": 47,
     "metadata": {},
     "output_type": "execute_result"
    }
   ],
   "source": [
    "test = Test(12)\n",
    "test.change_a(2)"
   ]
  },
  {
   "cell_type": "code",
   "execution_count": 40,
   "id": "a8ff9830-349c-43a4-b0fe-8add9ef02e5d",
   "metadata": {
    "scrolled": true
   },
   "outputs": [
    {
     "name": "stdout",
     "output_type": "stream",
     "text": [
      "345\n",
      "500\n"
     ]
    }
   ],
   "source": [
    "print(test.c)\n",
    "test.c = 500\n",
    "print(test.c)"
   ]
  },
  {
   "cell_type": "code",
   "execution_count": 162,
   "id": "1a16639f-30a7-469f-a2be-f2b6cf8fdcca",
   "metadata": {},
   "outputs": [
    {
     "name": "stdout",
     "output_type": "stream",
     "text": [
      "  | 1 | 2 | 3 | 4 | 5 | 6\n",
      "1 | o | o | o | o | o | o\n",
      "2 | o | o | o | o | o | o\n",
      "3 | o | o | o | o | o | o\n",
      "4 | o | o | o | o | o | o\n",
      "5 | o | o | o | o | X | o\n",
      "6 | o | o | o | o | o | o\n",
      "  | 1 | 2 | 3 | 4 | 5 | 6\n",
      "1 | o | o | o | o | o | o\n",
      "2 | o | o | o | o | o | o\n",
      "3 | o | o | o | o | o | o\n",
      "4 | o | o | o | X | o | o\n",
      "5 | o | o | o | o | X | o\n",
      "6 | o | o | o | o | o | o\n",
      "3067817364736\n",
      "3067817185984\n"
     ]
    }
   ],
   "source": [
    "grid = [['o' for i in range(6)] for i in range(6)]\n",
    "\n",
    "def print_grid(L):\n",
    "    print(*[\" \", *[i for i in range(1,7)]], sep=' | ')\n",
    "    for i in range(6):\n",
    "        print(i+1, *L[i], sep=' | ')\n",
    "    return\n",
    "\n",
    "# print_grid(grid)\n",
    "\n",
    "us_in = 55\n",
    "row = us_in // 10\n",
    "col = us_in % 10\n",
    "grid[row-1][col-1] = \"X\"\n",
    "print_grid(grid)\n",
    "\n",
    "grid_user = grid.copy()\n",
    "grid[3][3] = \"X\"\n",
    "print_grid(grid_user)\n",
    "print(id(grid_user))\n",
    "print(id(grid))"
   ]
  },
  {
   "cell_type": "code",
   "execution_count": null,
   "id": "0f2b63ff-3c43-4127-8300-5eef55f6ae8d",
   "metadata": {},
   "outputs": [],
   "source": [
    "print(user_shots)"
   ]
  },
  {
   "cell_type": "code",
   "execution_count": null,
   "id": "10bd4a63-96a1-4a6a-b00e-21b0ff4cbdee",
   "metadata": {},
   "outputs": [],
   "source": [
    "user_shots[0] == user_shots[1]"
   ]
  },
  {
   "cell_type": "code",
   "execution_count": null,
   "id": "6a217eb9-ec00-44a8-a32e-5dfd3e9e0761",
   "metadata": {},
   "outputs": [],
   "source": [
    "# Python program showing the use of\n",
    "# @property\n",
    "  \n",
    "class Geeks:\n",
    "     def __init__(self):\n",
    "          self._age = 0\n",
    "       \n",
    "     # using property decorator\n",
    "     # a getter function\n",
    "     @property\n",
    "     def age(self):\n",
    "         print(\"getter method called\")\n",
    "         return self._age\n",
    "       \n",
    "     # a setter function\n",
    "     @age.setter\n",
    "     def age(self, a):\n",
    "         if(a < 18):\n",
    "            err = ValueError(\"Sorry you age is below eligibility criteria\")\n",
    "            print(err)\n",
    "         print(\"setter method called\")\n",
    "         self._age = a\n",
    "  \n",
    "mark = Geeks()\n",
    "print(mark.age)\n",
    "mark.age = int(input())\n",
    "  \n",
    "print(mark.age)"
   ]
  },
  {
   "cell_type": "markdown",
   "id": "4170837c",
   "metadata": {},
   "source": [
    "# ВНЕШНЯЯ ЛОГИКА"
   ]
  },
  {
   "cell_type": "code",
   "execution_count": null,
   "id": "ad9d5633",
   "metadata": {},
   "outputs": [],
   "source": [
    "class Player:\n",
    "    def __init__(self, )\n",
    "    \n",
    "    @property\n",
    "    def my_board(self):\n",
    "        self.xxx = Board(grid_ships)\n",
    "    \n",
    "    @property\n",
    "    def opponent_board(self):\n",
    "        self.xxx = Board(grid_ships)\n",
    "        \n",
    "    def ask(self):\n",
    "        pass\n",
    "    \n",
    "    def move(self):\n",
    "        while True:\n",
    "            self.Player.ask()\n",
    "            \n",
    "            "
   ]
  }
 ],
 "metadata": {
  "kernelspec": {
   "display_name": "Python 3 (ipykernel)",
   "language": "python",
   "name": "python3"
  },
  "language_info": {
   "codemirror_mode": {
    "name": "ipython",
    "version": 3
   },
   "file_extension": ".py",
   "mimetype": "text/x-python",
   "name": "python",
   "nbconvert_exporter": "python",
   "pygments_lexer": "ipython3",
   "version": "3.9.7"
  }
 },
 "nbformat": 4,
 "nbformat_minor": 5
}
