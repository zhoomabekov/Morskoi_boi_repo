{
 "cells": [
  {
   "cell_type": "code",
   "execution_count": 1,
   "id": "a2671657-3895-4f0b-922b-75d8f2841f0b",
   "metadata": {},
   "outputs": [],
   "source": [
    "class Ship:\n",
    "    def __init__(self, a, b=0, c=0):\n",
    "        self.a = a\n",
    "        self.b = b\n",
    "        self.c = c\n",
    "    \n",
    "    # @property\n",
    "    # def correctness(self):\n",
    "    #     if \n",
    "\n",
    "ship_3x_1 = Ship(11)"
   ]
  },
  {
   "cell_type": "code",
   "execution_count": 13,
   "id": "8ae3699d-289e-4d66-8425-82da97b3c105",
   "metadata": {},
   "outputs": [
    {
     "name": "stdout",
     "output_type": "stream",
     "text": [
      "123a\n"
     ]
    }
   ],
   "source": [
    "# Useful codes\n",
    "class Point:\n",
    "    def __init__(self, x = 0, y = 0):\n",
    "        self.__x = x\n",
    "        self.__y = y\n",
    "    \n",
    "    def __checkValue(x):\n",
    "        if isinstance(x, int) or isinstance(x, float):\n",
    "            return True\n",
    "        else:\n",
    "            return False\n",
    "    \n",
    "    def __getCoordX(self):\n",
    "        return self.__x\n",
    "    \n",
    "    def __setCoordX(self, x):\n",
    "        if Point.__checkValue(x):\n",
    "            self.__x = x\n",
    "        else:\n",
    "            raise ValueError('Неверный формат')\n",
    "            \n",
    "    \n",
    "    coordX = property(__getCoordX, __setCoordX)\n",
    "\n",
    "pt = Point(\"123a\", 2)\n",
    "# pt.coordX = 100\n",
    "print(pt.coordX)"
   ]
  },
  {
   "cell_type": "code",
   "execution_count": 15,
   "id": "a8ff9830-349c-43a4-b0fe-8add9ef02e5d",
   "metadata": {},
   "outputs": [
    {
     "name": "stdout",
     "output_type": "stream",
     "text": [
      "Иван Петров, г.Москва\n",
      "Владимир Зайцев, г.Кострома\n",
      "Олеся Янина, г.Новосибирск\n"
     ]
    }
   ],
   "source": [
    "class Customers:\n",
    "    def __init__(self, first_name,second_name,city, balance):\n",
    "        self.first_name = first_name\n",
    "        self.second_name = second_name\n",
    "        self.balance = balance\n",
    "        self.city=city\n",
    "\n",
    "    def __str__(self):\n",
    "        return f'''\"{self.first_name} {self.second_name}\". {self.city}. Баланс: {self.balance} руб.'''\n",
    "\n",
    "    def get_guest(self):\n",
    "        return f'{self.first_name} {self.second_name}, г.{self.city}'\n",
    "\n",
    "\n",
    "costomer_1 = Customers('Иван','Петров','Москва',50)\n",
    "costomer_2 = Customers('Владимир','Зайцев','Кострома',50)\n",
    "costomer_3 = Customers('Олеся','Янина','Новосибирск',50)\n",
    "\n",
    "guest_list=[costomer_1,costomer_2,costomer_3]\n",
    "\n",
    "\n",
    "for guest in guest_list:\n",
    "    print(guest.get_guest())"
   ]
  },
  {
   "cell_type": "code",
   "execution_count": 6,
   "id": "1a16639f-30a7-469f-a2be-f2b6cf8fdcca",
   "metadata": {},
   "outputs": [
    {
     "name": "stdout",
     "output_type": "stream",
     "text": [
      "  | 1 | 2 | 3 | 4 | 5 | 6\n",
      "1 | o | o | o | o | o | o\n",
      "2 | o | o | o | o | o | o\n",
      "3 | o | o | o | o | o | o\n",
      "4 | o | o | o | o | o | o\n",
      "5 | o | o | o | o | X | o\n",
      "6 | o | o | o | o | o | o\n",
      "  | 1 | 2 | 3 | 4 | 5 | 6\n",
      "1 | o | o | o | o | o | o\n",
      "2 | o | o | o | o | o | o\n",
      "3 | o | o | o | o | o | o\n",
      "4 | o | o | o | X | o | o\n",
      "5 | o | o | o | o | X | o\n",
      "6 | o | o | o | o | o | o\n",
      "1248898175808\n",
      "1248898175104\n"
     ]
    }
   ],
   "source": [
    "grid = [['o' for i in range(6)] for i in range(6)]\n",
    "\n",
    "def print_grid(L):\n",
    "    print(*[\" \", *[i for i in range(1,7)]], sep=' | ')\n",
    "    for i in range(6):\n",
    "        print(i+1, *L[i], sep=' | ')\n",
    "    return\n",
    "\n",
    "# print_grid(grid)\n",
    "\n",
    "us_in = 55\n",
    "row = us_in // 10\n",
    "col = us_in % 10\n",
    "grid[row-1][col-1] = \"X\"\n",
    "print_grid(grid)\n",
    "\n",
    "grid_user = grid.copy()\n",
    "grid[3][3] = \"X\"\n",
    "print_grid(grid_user)\n",
    "print(id(grid_user))\n",
    "print(id(grid))"
   ]
  },
  {
   "cell_type": "code",
   "execution_count": 42,
   "id": "71209c06-fc2e-403c-b879-322215ff00ca",
   "metadata": {},
   "outputs": [
    {
     "name": "stdin",
     "output_type": "stream",
     "text": [
      "В какую ячейку будем стрелять? asd\n"
     ]
    },
    {
     "name": "stdout",
     "output_type": "stream",
     "text": [
      "Необходимо ввести двузначное число!\n"
     ]
    },
    {
     "name": "stdin",
     "output_type": "stream",
     "text": [
      "В какую ячейку будем стрелять? [12.3, 1]\n"
     ]
    },
    {
     "name": "stdout",
     "output_type": "stream",
     "text": [
      "Необходимо ввести двузначное число!\n"
     ]
    },
    {
     "name": "stdin",
     "output_type": "stream",
     "text": [
      "В какую ячейку будем стрелять? 99\n"
     ]
    },
    {
     "name": "stdout",
     "output_type": "stream",
     "text": [
      "99 лежит за пределами игрового поля. Введите двузначное число, каждая цифра которого от 1 до 6, включительно.\n"
     ]
    },
    {
     "name": "stdin",
     "output_type": "stream",
     "text": [
      "В какую ячейку будем стрелять? 66\n"
     ]
    },
    {
     "name": "stdout",
     "output_type": "stream",
     "text": [
      "  | 1 | 2 | 3 | 4 | 5 | 6\n",
      "1 | o | o | o | o | o | o\n",
      "2 | o | X | o | o | o | o\n",
      "3 | o | o | o | o | o | o\n",
      "4 | o | o | o | o | o | o\n",
      "5 | o | o | o | o | X | o\n",
      "6 | o | o | o | o | o | X\n",
      "Ход компьютера:\n"
     ]
    }
   ],
   "source": [
    "class BoardOutError(Exception):\n",
    "    def __init__(self,value):\n",
    "        self.value = value\n",
    "    \n",
    "    def __str__(self):\n",
    "        return f\"{self.value} лежит за пределами игрового поля. Введите двузначное число, каждая цифра которого от 1 до 6, включительно.\"\n",
    "\n",
    "class NonEmptyError(Exception):\n",
    "    def __init__(self,value):\n",
    "        self.value = value\n",
    "    \n",
    "    def __str__(self):\n",
    "        return f\"Выбраная ячейка - {self.value} - непустая. Стрелять можно только в пустые ячейки.\"\n",
    "\n",
    "while True:\n",
    "    try:\n",
    "        user_shot = int(input(\"В какую ячейку будем стрелять?\"))\n",
    "        row = user_shot // 10\n",
    "        col = user_shot % 10\n",
    "\n",
    "        if row not in range(1,7) or col not in range(1,7):\n",
    "            err = BoardOutError(user_shot)\n",
    "            print(err)\n",
    "\n",
    "        else:\n",
    "            if grid[row-1][col-1] != 'o':\n",
    "                err = NonEmptyError(user_shot)\n",
    "                print(err)\n",
    "            else:\n",
    "                grid[row-1][col-1] = 'X'\n",
    "                print_grid(grid)\n",
    "                print('Ход компьютера:')\n",
    "                break\n",
    "\n",
    "    except Exception:\n",
    "        print('Необходимо ввести двузначное число!')"
   ]
  },
  {
   "cell_type": "code",
   "execution_count": 1,
   "id": "91bf5428-f365-444e-af22-c4eec68d2ec6",
   "metadata": {},
   "outputs": [],
   "source": [
    "class Dot:\n",
    "    def __init__(self, row, col):\n",
    "        self.row = row\n",
    "        self.col = col\n",
    "        \n",
    "    def __eq__(self, other):\n",
    "        return self.row == other and self.col == other\n",
    "\n",
    "user_shots = []"
   ]
  },
  {
   "cell_type": "code",
   "execution_count": 2,
   "id": "8bbd4360-e11d-4be5-bf70-46b2ad425196",
   "metadata": {},
   "outputs": [
    {
     "name": "stdout",
     "output_type": "stream",
     "text": [
      "В какую ячейку будем стрелять?55\n",
      "[<__main__.Dot object at 0x000001B3BE61FB20>]\n"
     ]
    }
   ],
   "source": [
    "user_shot = int(input(\"В какую ячейку будем стрелять?\"))\n",
    "row = user_shot // 10\n",
    "col = user_shot % 10\n",
    "\n",
    "shot = Dot(row,col)\n",
    "user_shots.append(shot)\n",
    "print(user_shots)"
   ]
  },
  {
   "cell_type": "code",
   "execution_count": null,
   "id": "0f2b63ff-3c43-4127-8300-5eef55f6ae8d",
   "metadata": {},
   "outputs": [],
   "source": [
    "print(user_shots)"
   ]
  },
  {
   "cell_type": "code",
   "execution_count": 74,
   "id": "10bd4a63-96a1-4a6a-b00e-21b0ff4cbdee",
   "metadata": {},
   "outputs": [
    {
     "data": {
      "text/plain": [
       "False"
      ]
     },
     "execution_count": 74,
     "metadata": {},
     "output_type": "execute_result"
    }
   ],
   "source": [
    "user_shots[0] == user_shots[1]"
   ]
  },
  {
   "cell_type": "code",
   "execution_count": null,
   "id": "6a217eb9-ec00-44a8-a32e-5dfd3e9e0761",
   "metadata": {},
   "outputs": [],
   "source": []
  },
  {
   "cell_type": "code",
   "execution_count": null,
   "id": "bd67934f-9965-4a53-bde7-a1ef9da1c6d6",
   "metadata": {},
   "outputs": [],
   "source": []
  }
 ],
 "metadata": {
  "kernelspec": {
   "display_name": "Python 3 (ipykernel)",
   "language": "python",
   "name": "python3"
  },
  "language_info": {
   "codemirror_mode": {
    "name": "ipython",
    "version": 3
   },
   "file_extension": ".py",
   "mimetype": "text/x-python",
   "name": "python",
   "nbconvert_exporter": "python",
   "pygments_lexer": "ipython3",
   "version": "3.9.7"
  }
 },
 "nbformat": 4,
 "nbformat_minor": 5
}
